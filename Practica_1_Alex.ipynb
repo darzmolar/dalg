{
 "cells": [
  {
   "cell_type": "code",
   "execution_count": 1,
   "metadata": {},
   "outputs": [],
   "source": [
    "%matplotlib inline\n",
    "%load_ext autoreload\n",
    "%autoreload 2"
   ]
  },
  {
   "cell_type": "code",
   "execution_count": 2,
   "metadata": {},
   "outputs": [],
   "source": [
    "import string, random\n",
    "import numpy as np\n",
    "import matplotlib.pyplot as plt\n",
    "import sys\n",
    "import time\n",
    "\n",
    "import queue as qe\n",
    "\n",
    "from sklearn.linear_model import LinearRegression\n",
    "\n",
    "import networkx as nx"
   ]
  },
  {
   "cell_type": "code",
   "execution_count": 3,
   "metadata": {},
   "outputs": [],
   "source": [
    "def fit_plot(l, func_2_fit, size_ini, size_fin, step):\n",
    "    l_func_values =[i*func_2_fit(i) for i in range(size_ini, size_fin+1, step)]\n",
    "    \n",
    "    lr_m = LinearRegression()\n",
    "    X = np.array(l_func_values).reshape( len(l_func_values), -1 )\n",
    "    lr_m.fit(X, l)\n",
    "    y_pred = lr_m.predict(X)\n",
    "    \n",
    "    plt.plot(l, '*', y_pred, '-')\n",
    "\n",
    "def n2_log_n(n):\n",
    "    return n**2. * np.log(n)"
   ]
  },
  {
   "cell_type": "code",
   "execution_count": 4,
   "metadata": {},
   "outputs": [
    {
     "name": "stdout",
     "output_type": "stream",
     "text": [
      "graph_from_matrix:\n",
      "\n",
      "( 0 1 ) 10.0\n",
      "( 0 2 ) 1.0\n",
      "( 1 2 ) 1.0\n",
      "( 2 3 ) 1.0\n",
      "( 3 1 ) 1.0\n",
      "\n",
      "graph_from_dict:\n",
      "\n",
      "( 0 1 ) 10\n",
      "( 0 2 ) 1\n",
      "( 1 2 ) 1\n",
      "( 2 3 ) 1\n",
      "( 3 1 ) 1\n"
     ]
    }
   ],
   "source": [
    "l = [\n",
    "[0, 10, 1, np.inf],\n",
    "[np.inf, 0, 1, np.inf],\n",
    "[np.inf, np.inf, 0, 1 ],\n",
    "[np.inf, 1, np.inf, 0]\n",
    "]\n",
    "\n",
    "m_g = np.array(l)\n",
    "\n",
    "def print_m_g(m_g):\n",
    "    print(\"graph_from_matrix:\\n\")\n",
    "    n_v = m_g.shape[0]\n",
    "    for u in range(n_v):\n",
    "        for v in range(n_v):\n",
    "            if v != u and m_g[u, v] != np.inf:\n",
    "                print(\"(\", u, v, \")\", m_g[u, v])\n",
    "\n",
    "            \n",
    "d_g = {\n",
    "0: {1: 10, 2: 1}, \n",
    "1: {2: 1}, \n",
    "2: {3: 1},\n",
    "3: {1: 1}\n",
    "}\n",
    "\n",
    "def print_d_g(d_g):\n",
    "    print(\"\\ngraph_from_dict:\\n\")\n",
    "    for u in d_g.keys():\n",
    "        for v in d_g[u].keys():\n",
    "            print(\"(\", u, v, \")\", d_g[u][v])\n",
    "            \n",
    "print_m_g(m_g)\n",
    "print_d_g(d_g)"
   ]
  },
  {
   "cell_type": "code",
   "execution_count": 44,
   "metadata": {},
   "outputs": [
    {
     "name": "stdout",
     "output_type": "stream",
     "text": [
      "Matriz en crudo.\n",
      "[[ 0. 32. 19. inf inf]\n",
      " [31.  0. inf inf inf]\n",
      " [inf 49.  0. inf 18.]\n",
      " [28. 49. 39.  0. inf]\n",
      " [inf 27. inf inf  0.]]\n",
      "graph_from_matrix:\n",
      "\n",
      "( 0 1 ) 32.0\n",
      "( 0 2 ) 19.0\n",
      "( 1 0 ) 31.0\n",
      "( 2 1 ) 49.0\n",
      "( 2 4 ) 18.0\n",
      "( 3 0 ) 28.0\n",
      "( 3 1 ) 49.0\n",
      "( 3 2 ) 39.0\n",
      "( 4 1 ) 27.0\n",
      "\n",
      "graph_from_dict:\n",
      "\n",
      "( 0 1 ) 32.0\n",
      "( 0 2 ) 19.0\n",
      "( 1 0 ) 31.0\n",
      "( 2 1 ) 49.0\n",
      "( 2 4 ) 18.0\n",
      "( 3 0 ) 28.0\n",
      "( 3 1 ) 49.0\n",
      "( 3 2 ) 39.0\n",
      "( 4 1 ) 27.0\n",
      "\n",
      "num_elem_iguales:\t0\n"
     ]
    }
   ],
   "source": [
    "def rand_matr_pos_graph(n_nodes, sparse_factor, max_weight=50., decimals=0):    \n",
    "    \n",
    "    matrix = np.full((n_nodes, n_nodes), np.inf)\n",
    "    \n",
    "    for row in range(n_nodes):\n",
    "        for col in range(n_nodes):\n",
    "            if row != col:\n",
    "                aleat = np.random.rand()\n",
    "                if aleat < sparse_factor: # Se comprueba que el peso generado sea < al factor de dispersion\n",
    "                    matrix[row][col] = np.random.randint(1, max_weight)\n",
    "            else:\n",
    "                matrix[row][col] = 0\n",
    "    return matrix\n",
    "\n",
    "        \n",
    "def m_g_2_d_g(m_g):\n",
    "    dict_paths = {}\n",
    "    dict_aux = {}\n",
    "    \n",
    "    for row in range(m_g.shape[0]):\n",
    "        for col in range(m_g.shape[1]):\n",
    "            if col != row:\n",
    "                if m_g[row][col] != np.inf:\n",
    "                    dict_aux.update({col : m_g[row][col]})\n",
    "        dict_paths.update({row:dict_aux})\n",
    "        dict_aux = {}\n",
    "\n",
    "    return dict_paths\n",
    "    \n",
    "\n",
    "def d_g_2_m_g(d_g):    \n",
    "    # \"\"\"\n",
    "    # \"\"\"\n",
    "    pass\n",
    "\n",
    "\n",
    "############################################################ checking\n",
    "m_g = rand_matr_pos_graph(n_nodes=5, sparse_factor=0.5, max_weight=50.)    \n",
    "d_g = m_g_2_d_g(m_g)\n",
    "m_g_2 = d_g_2_m_g(d_g)\n",
    "\n",
    "print(\"Matriz en crudo.\")\n",
    "print(m_g)\n",
    "print_m_g(m_g)\n",
    "print_d_g(d_g)\n",
    "print(\"\\nnum_elem_iguales:\\t%d\" % (m_g_2 == m_g).sum() )"
   ]
  },
  {
   "cell_type": "code",
   "execution_count": null,
   "metadata": {},
   "outputs": [],
   "source": []
  },
  {
   "cell_type": "code",
   "execution_count": null,
   "metadata": {},
   "outputs": [],
   "source": []
  }
 ],
 "metadata": {
  "kernelspec": {
   "display_name": "Python 3",
   "language": "python",
   "name": "python3"
  },
  "language_info": {
   "codemirror_mode": {
    "name": "ipython",
    "version": 3
   },
   "file_extension": ".py",
   "mimetype": "text/x-python",
   "name": "python",
   "nbconvert_exporter": "python",
   "pygments_lexer": "ipython3",
   "version": "3.5.2"
  }
 },
 "nbformat": 4,
 "nbformat_minor": 2
}
