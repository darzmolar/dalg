{
 "cells": [
  {
   "cell_type": "code",
   "execution_count": 96,
   "metadata": {
    "collapsed": true
   },
   "outputs": [],
   "source": [
    "\"\"\"\n",
    "Created on Wed Oct 19 15:48:00 2018\n",
    "\n",
    "@author: Daniel Cuesta, Alejandro Garo\n",
    "\"\"\"\n",
    "\n",
    "import string, random\n",
    "import numpy as np\n",
    "import matplotlib.pyplot as plt\n",
    "import sys\n",
    "import time\n",
    "\n",
    "import queue\n",
    "\n",
    "from sklearn.linear_model import LinearRegression\n",
    "\n",
    "import networkx as nx"
   ]
  },
  {
   "cell_type": "code",
   "execution_count": 97,
   "metadata": {},
   "outputs": [
    {
     "name": "stdout",
     "output_type": "stream",
     "text": [
      "[[2 3 0]\n",
      " [1 3 2]\n",
      " [1 3 0]]\n"
     ]
    }
   ],
   "source": [
    "m_mg = np.random.binomial(3,0.5,(3,3))\n",
    "print(m_mg)"
   ]
  },
  {
   "cell_type": "code",
   "execution_count": 98,
   "metadata": {
    "collapsed": true
   },
   "outputs": [],
   "source": [
    "# Ejercicio 1B: Agrandando nuestra ED\n",
    "def m_mg_2_d_mg(m_mg):\n",
    "    \"\"\"\n",
    "    De un multigrafo dirigido sin pesos, genera un diccionario de adyacencia a partir de su matriz de adyacencia.\n",
    "    g[u]: diccionario de diccionarios con los nodos destino y el num de caminos con su peso (1 por ser unweighted)\n",
    "    g[u][v]: num de caminos con su peso (1)\n",
    "    Devuelve la matriz de adyacencia.\n",
    "\n",
    "    Parámetros\n",
    "    ----------\n",
    "    m_mg: matriz de adyacencia, contiene el numero de caminos del nodo u al uv\n",
    "    \"\"\"\n",
    "    d_mg = {}\n",
    "    \n",
    "    for i in range(m_mg.shape[0]):\n",
    "        d_mg[i] = {}\n",
    "        for j in range(m_mg.shape[1]):\n",
    "            d_mg[i][j] = {}\n",
    "            for n_edge in range(m_mg[i][j]):\n",
    "                d_mg[i][j].update({n_edge : 1})\n",
    "    return d_mg\n",
    "\n",
    "def rand_unweight_multigraph(n_nodes, num_max_multiple_edges = 3, prob = 0.5):\n",
    "    \"\"\"\n",
    "    Genera un multigrafo dirigido sin pesos haciendo uso del metodo binomial del paquete random de numpy.\n",
    "    Parámetros\n",
    "    ----------\n",
    "    n_nodes: numero de nodos\n",
    "    num_max_multiple_edges: numero maximo de aristas de un nodo\n",
    "    prob: probabilidad de generacion de las aristas\n",
    "    \"\"\"\n",
    "    return np.random.binomial(num_max_multiple_edges, prob, (n_nodes,n_nodes))\n",
    "\n",
    "\n",
    "def graph_2_multigraph(d_g):\n",
    "    \"\"\"\n",
    "    Convierte un grafo que usa nuestra ED diccionario anterior a la nueva\n",
    "\n",
    "    Parámetros\n",
    "    ----------\n",
    "    d_g: grafo usando la ED diccionario anterior\n",
    "    \"\"\"\n",
    "    d_mg = {}\n",
    "    for u in d_g.keys():\n",
    "        d_mg.update({u : {}})\n",
    "        # print(d_mg[u])\n",
    "        #\n",
    "        #\n",
    "        #TODO saber si hay que meter caminos repetidos\n",
    "        for v in d_g[u].keys():\n",
    "            d_mg[u].update({v:{0:1}})\n",
    "        print(d_mg[u])\n",
    "        # if d_mg[u][v] is v:\n",
    "        #     d_mg[u].update({int(d_mg[u][v]) + 1 : 1})\n",
    "        #     print(d_mg[u])\n",
    "                \n",
    "            \n",
    "def print_multi_graph(d_mg):\n",
    "    \"\"\"\n",
    "    Imprime el multigrafo dirigido sin pesos\n",
    "    \n",
    "    Parámetros\n",
    "    ----------\n",
    "    d_mg: multigrafo usando la ED diccionario\n",
    "    \"\"\"\n",
    "    for u in d_mg.keys():\n",
    "        # print(d_mg[u])\n",
    "        for v in d_mg[u].keys():\n",
    "            l_w = []\n",
    "            for w in d_mg[u][v].keys():\n",
    "                l_w.append([d_mg[u][v][w]])\n",
    "            print(\"(\" + str(u) + \",\" + str(v) + \")\" + \": \" + str(l_w))"
   ]
  },
  {
   "cell_type": "code",
   "execution_count": 99,
   "metadata": {
    "scrolled": false
   },
   "outputs": [
    {
     "name": "stdout",
     "output_type": "stream",
     "text": [
      "{0: {0: 1}, 1: {0: 1}, 2: {0: 1}}\n",
      "{0: {0: 1}, 2: {0: 1}}\n",
      "{3: {0: 1}}\n",
      "{1: {0: 1}}\n"
     ]
    }
   ],
   "source": [
    "# Prueba\n",
    "\n",
    "# m_mg a d_mg\n",
    "# m_mg = rand_unweight_multigraph(3, num_max_multiple_edges = 3, prob = 0.5)\n",
    "# d_mg = m_mg_2_d_mg(m_mg)\n",
    "# print(m_mg)\n",
    "# print_multi_graph(d_mg)\n",
    "\n",
    "# d_g a d_mg\n",
    "d_g = {\n",
    "    0: {0: 1, 1: 1, 2: 1},\n",
    "    1: {0:1, 2: 1},\n",
    "    2: {3: 1},\n",
    "    3: {1: 1}\n",
    "}\n",
    "graph_2_multigraph(d_g)"
   ]
  },
  {
   "cell_type": "code",
   "execution_count": 100,
   "metadata": {},
   "outputs": [
    {
     "name": "stdout",
     "output_type": "stream",
     "text": [
      "{1: {0: {'weight': 10}}, 2: {0: {'weight': 1}}}\n",
      "{0: {'weight': 10}}\n"
     ]
    }
   ],
   "source": [
    "# Pruebas con NX MultiDiGraph\n",
    "mg = nx.MultiDiGraph()\n",
    "\n",
    "l_e = [(0,1,10), (0,2,1), (1,2,1), (2,3,1), (3,1,1)]\n",
    "\n",
    "#mg.add_weighted_edges_from(l_e)\n",
    "mg.add_weighted_edges_from(l_e)\n",
    "\n",
    "\n",
    "print(mg[0])\n",
    "\n",
    "print(mg[0][1])"
   ]
  },
  {
   "cell_type": "code",
   "execution_count": 245,
   "metadata": {},
   "outputs": [],
   "source": [
    "# Ejercicio 2A: Detectando caminos eulerianos.\n",
    "\n",
    "def adj_inc_directed_multigraph(d_mg):\n",
    "    \"\"\"\n",
    "    Devuelve las adyacencias e incidencias de cada vertice del multigrafo d_mg\n",
    "    \n",
    "    Parámetros\n",
    "    ----------\n",
    "    d_mg: multigrafo usando la ED diccionario\n",
    "    \"\"\"\n",
    "    \n",
    "    inc = [0]*len(d_mg)\n",
    "    adj = [0]*len(d_mg)\n",
    "    for u in d_mg.keys():\n",
    "        for v in d_mg[u].keys():\n",
    "            #evitamos contar los ciclos en un mismo nodo\n",
    "            if u != v:\n",
    "                adj[u] = adj[u] + len(d_mg[u][v])\n",
    "                inc[v] = inc[v] + len(d_mg[u][v])\n",
    "\n",
    "    return (inc, adj)\n"
   ]
  },
  {
   "cell_type": "code",
   "execution_count": 270,
   "metadata": {
    "scrolled": true
   },
   "outputs": [
    {
     "name": "stdout",
     "output_type": "stream",
     "text": [
      "[[1 1 1 2 1]\n",
      " [3 2 2 1 2]\n",
      " [2 2 1 1 1]\n",
      " [3 1 2 1 3]\n",
      " [1 0 1 2 2]]\n",
      "(0,1): [[1]]\n",
      "(1,3): [[1]]\n",
      "(2,0): [[1]]\n",
      "(3,4): [[1]]\n",
      "(4,9): [[1]]\n",
      "(5,8): [[1]]\n",
      "(7,6): [[1]]\n",
      "(8,2): [[1]]\n",
      "(9,7): [[1]]\n",
      "[1, 1, 1, 1, 1, 0, 1, 1, 1, 1] [1, 1, 1, 1, 1, 1, 0, 1, 1, 1]\n"
     ]
    }
   ],
   "source": [
    "m_mg = rand_unweight_multigraph(5, num_max_multiple_edges = 3, prob = 0.5)\n",
    "d_mg = { 0: {1: {0: 1}}, 1: {3: {0: 1}}, 2: {0: {0: 1}}, 3: {4: {0:1}}, 4: {9: {0:1}}, 5: {8: {0:1}}, 6: {}, 7: {6: {0:1}}, 8: {2: {0:1}}, 9: {7: {0:1}} }\n",
    "#m_mg_2_d_mg(m_mg)\n",
    "print(m_mg)\n",
    "print_multi_graph(d_mg)\n",
    "inc, adj = adj_inc_directed_multigraph(d_mg)\n",
    "print(inc, adj)\n"
   ]
  },
  {
   "cell_type": "code",
   "execution_count": 271,
   "metadata": {},
   "outputs": [],
   "source": [
    "def isthere_euler_path_directed_multigraph(d_mg):\n",
    "    \"\"\"\n",
    "    Devuelve True o False segun haya o no un camino euleriano en el multigrafo d_mg\n",
    "    \n",
    "    Parámetros\n",
    "    ----------\n",
    "    d_mg: multigrafo usando la ED diccionario\n",
    "    \"\"\"\n",
    "    \n",
    "    inc, adj = adj_inc_directed_multigraph(d_mg)\n",
    "    \n",
    "    if sum(inc) != sum(adj):\n",
    "        return False\n",
    "    \n",
    "    l = [adj_i - inc_i for adj_i, inc_i in zip(adj, inc)]\n",
    "    k = 0\n",
    "    for u in l:\n",
    "        if u == 1:\n",
    "            k+=1\n",
    "        if u > 1 or u < -1 or (inc[u] == 0 and adj[u] == 0) or k == 2:\n",
    "            return False\n",
    "    \n",
    "    return True\n"
   ]
  },
  {
   "cell_type": "code",
   "execution_count": 272,
   "metadata": {
    "scrolled": true
   },
   "outputs": [
    {
     "data": {
      "text/plain": [
       "True"
      ]
     },
     "execution_count": 272,
     "metadata": {},
     "output_type": "execute_result"
    }
   ],
   "source": [
    "isthere_euler_path_directed_multigraph(d_mg)"
   ]
  },
  {
   "cell_type": "code",
   "execution_count": 273,
   "metadata": {},
   "outputs": [],
   "source": [
    "def first_last_euler_path_directed_multigraph(d_mg):\n",
    "    \"\"\"\n",
    "    Devuelve el punto inicial y el punto final del multigrafo d_mg\n",
    "    \n",
    "    Parámetros\n",
    "    ----------\n",
    "    d_mg: multigrafo usando la ED diccionario\n",
    "    \"\"\"\n",
    "    \n",
    "    first = []\n",
    "    last = []\n",
    "    \n",
    "    if isthere_euler_path_directed_multigraph(d_mg) == False:\n",
    "        return []\n",
    "    \n",
    "    inc, adj = adj_inc_directed_multigraph(d_mg)\n",
    "    print (inc)\n",
    "    print (adj)\n",
    "    \n",
    "    for u in range(len(inc)):\n",
    "        if inc[u] - adj[u] > 0:\n",
    "            last = u\n",
    "        \n",
    "        if inc[u] - adj[u] < 0:\n",
    "            first = u\n",
    "    \n",
    "    if first == [] or last == []:\n",
    "        first = 0\n",
    "        last = 0\n",
    "    \n",
    "    return first, last"
   ]
  },
  {
   "cell_type": "code",
   "execution_count": 274,
   "metadata": {
    "scrolled": true
   },
   "outputs": [
    {
     "name": "stdout",
     "output_type": "stream",
     "text": [
      "[1, 1, 1, 1, 1, 0, 1, 1, 1, 1]\n",
      "[1, 1, 1, 1, 1, 1, 0, 1, 1, 1]\n"
     ]
    },
    {
     "data": {
      "text/plain": [
       "(5, 6)"
      ]
     },
     "execution_count": 274,
     "metadata": {},
     "output_type": "execute_result"
    }
   ],
   "source": [
    "first_last_euler_path_directed_multigraph(d_mg)"
   ]
  },
  {
   "cell_type": "code",
   "execution_count": 276,
   "metadata": {},
   "outputs": [],
   "source": [
    "def euler_walk_directed_multigraph(u, d_mg):\n",
    "    \"\"\"\n",
    "    Devuelve un camino euleriano del multigrafo d_mg\n",
    "    \n",
    "    Parámetros\n",
    "    ----------\n",
    "    u: vertice inicial\n",
    "    d_mg: multigrafo usando la ED diccionario\n",
    "    \"\"\"\n",
    "    \n",
    "    cam_eu = [u]\n",
    "    n_act = u\n",
    "    \n",
    "    inc, adj = adj_inc_directed_multigraph(d_mg)\n",
    "    \n",
    "    first, last = first_last_euler_path_directed_multigraph(d_mg)\n",
    "    \n",
    "    if adj[u] == 0:\n",
    "        print (polla)\n",
    "        return []\n",
    "    \n",
    "    while sum(inc)!=0:\n",
    "        for x in d_mg.keys():\n",
    "            if n_act == x:\n",
    "                adj[x] = adj[x] - 1\n",
    "                for y in d_mg[x].keys():\n",
    "                    if n_act != y:\n",
    "                        inc[y] = inc[y] - 1\n",
    "                        cam_eu.append(y)\n",
    "                        k = list(d_mg[x][y].keys())[0]\n",
    "                        del d_mg[x][y][k]\n",
    "                        n_act = y\n",
    "    return cam_eu\n",
    "    \n",
    "    "
   ]
  },
  {
   "cell_type": "code",
   "execution_count": 277,
   "metadata": {},
   "outputs": [
    {
     "name": "stdout",
     "output_type": "stream",
     "text": [
      "[1, 1, 1, 1, 1, 0, 1, 1, 1, 1]\n",
      "[1, 1, 1, 1, 1, 1, 0, 1, 1, 1]\n"
     ]
    },
    {
     "data": {
      "text/plain": [
       "[5, 8, 2, 0, 1, 3, 4, 9, 7, 6]"
      ]
     },
     "execution_count": 277,
     "metadata": {},
     "output_type": "execute_result"
    }
   ],
   "source": [
    "euler_walk_directed_multigraph(5,d_mg)"
   ]
  },
  {
   "cell_type": "code",
   "execution_count": null,
   "metadata": {
    "collapsed": true
   },
   "outputs": [],
   "source": []
  }
 ],
 "metadata": {
  "kernelspec": {
   "display_name": "Python 3",
   "language": "python",
   "name": "python3"
  },
  "language_info": {
   "codemirror_mode": {
    "name": "ipython",
    "version": 3
   },
   "file_extension": ".py",
   "mimetype": "text/x-python",
   "name": "python",
   "nbconvert_exporter": "python",
   "pygments_lexer": "ipython3",
   "version": "3.6.3"
  }
 },
 "nbformat": 4,
 "nbformat_minor": 2
}
