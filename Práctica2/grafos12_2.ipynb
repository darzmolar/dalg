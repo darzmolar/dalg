{
 "cells": [
  {
   "cell_type": "code",
   "execution_count": 1,
   "metadata": {},
   "outputs": [],
   "source": [
    "\"\"\"\n",
    "Created on Wed Oct 19 15:48:00 2018\n",
    "\n",
    "@author: Daniel Cuesta, Alejandro Garo\n",
    "\"\"\"\n",
    "\n",
    "import string, random\n",
    "import numpy as np\n",
    "import matplotlib.pyplot as plt\n",
    "import sys\n",
    "import time\n",
    "\n",
    "import queue\n",
    "\n",
    "from sklearn.linear_model import LinearRegression\n",
    "\n",
    "import networkx as nx"
   ]
  },
  {
   "cell_type": "code",
   "execution_count": 2,
   "metadata": {},
   "outputs": [
    {
     "name": "stdout",
     "output_type": "stream",
     "text": [
      "[[2 3 1]\n",
      " [2 2 2]\n",
      " [2 2 1]]\n"
     ]
    }
   ],
   "source": [
    "m_mg = np.random.binomial(3,0.5,(3,3))\n",
    "print(m_mg)"
   ]
  },
  {
   "cell_type": "code",
   "execution_count": 3,
   "metadata": {},
   "outputs": [],
   "source": [
    "# Ejercicio 1B: Agrandando nuestra ED\n",
    "def m_mg_2_d_mg(m_mg):\n",
    "    \"\"\"\n",
    "    De un multigrafo dirigido sin pesos, genera un diccionario de adyacencia a partir de su matriz de adyacencia.\n",
    "    g[u]: diccionario de diccionarios con los nodos destino y el num de caminos con su peso (1 por ser unweighted)\n",
    "    g[u][v]: num de caminos con su peso (1)\n",
    "    Devuelve la matriz de adyacencia.\n",
    "\n",
    "    Parámetros\n",
    "    ----------\n",
    "    m_mg: matriz de adyacencia, contiene el numero de caminos del nodo u al uv\n",
    "    \"\"\"\n",
    "    d_mg = {}\n",
    "    \n",
    "    for i in range(m_mg.shape[0]):\n",
    "        d_mg[i] = {}\n",
    "        for j in range(m_mg.shape[1]):\n",
    "            d_mg[i][j] = {}\n",
    "            for n_edge in range(m_mg[i][j]):\n",
    "                d_mg[i][j].update({n_edge : 1})\n",
    "    return d_mg\n",
    "\n",
    "def rand_unweight_multigraph(n_nodes, num_max_multiple_edges = 3, prob = 0.5):\n",
    "    \"\"\"\n",
    "    Genera un multigrafo dirigido sin pesos haciendo uso del metodo binomial del paquete random de numpy.\n",
    "    Parámetros\n",
    "    ----------\n",
    "    n_nodes: numero de nodos\n",
    "    num_max_multiple_edges: numero maximo de aristas de un nodo\n",
    "    prob: probabilidad de generacion de las aristas\n",
    "    \"\"\"\n",
    "    return np.random.binomial(num_max_multiple_edges, prob, (n_nodes,n_nodes))\n",
    "\n",
    "\n",
    "def graph_2_multigraph(d_g):\n",
    "    \"\"\"\n",
    "    Convierte un grafo que usa nuestra ED diccionario anterior a la nueva\n",
    "\n",
    "    Parámetros\n",
    "    ----------\n",
    "    d_g: grafo usando la ED diccionario anterior\n",
    "    \"\"\"\n",
    "    d_mg = {}\n",
    "    for u in d_g.keys():\n",
    "        d_mg.update({u : {}})\n",
    "        # print(d_mg[u])\n",
    "        #\n",
    "        #\n",
    "        #TODO saber si hay que meter caminos repetidos\n",
    "        for v in d_g[u].keys():\n",
    "            d_mg[u].update({v:{0:1}})\n",
    "        print(d_mg[u])\n",
    "        # if d_mg[u][v] is v:\n",
    "        #     d_mg[u].update({int(d_mg[u][v]) + 1 : 1})\n",
    "        #     print(d_mg[u])\n",
    "                \n",
    "            \n",
    "def print_multi_graph(d_mg):\n",
    "    \"\"\"\n",
    "    Imprime el multigrafo dirigido sin pesos\n",
    "    \n",
    "    Parámetros\n",
    "    ----------\n",
    "    d_mg: multigrafo usando la ED diccionario\n",
    "    \"\"\"\n",
    "    for u in d_mg.keys():\n",
    "        # print(d_mg[u])\n",
    "        for v in d_mg[u].keys():\n",
    "            l_w = []\n",
    "            for w in d_mg[u][v].keys():\n",
    "                l_w.append([d_mg[u][v][w]])\n",
    "            print(\"(\" + str(u) + \",\" + str(v) + \")\" + \": \" + str(l_w))"
   ]
  },
  {
   "cell_type": "code",
   "execution_count": 4,
   "metadata": {
    "scrolled": false
   },
   "outputs": [
    {
     "name": "stdout",
     "output_type": "stream",
     "text": [
      "{0: {0: 1}, 1: {0: 1}, 2: {0: 1}}\n",
      "{0: {0: 1}, 2: {0: 1}}\n",
      "{3: {0: 1}}\n",
      "{1: {0: 1}}\n"
     ]
    }
   ],
   "source": [
    "# Prueba\n",
    "\n",
    "# m_mg a d_mg\n",
    "# m_mg = rand_unweight_multigraph(3, num_max_multiple_edges = 3, prob = 0.5)\n",
    "# d_mg = m_mg_2_d_mg(m_mg)\n",
    "# print(m_mg)\n",
    "# print_multi_graph(d_mg)\n",
    "\n",
    "# d_g a d_mg\n",
    "d_g = {\n",
    "    0: {0: 1, 1: 1, 2: 1},\n",
    "    1: {0:1, 2: 1},\n",
    "    2: {3: 1},\n",
    "    3: {1: 1}\n",
    "}\n",
    "graph_2_multigraph(d_g)"
   ]
  },
  {
   "cell_type": "code",
   "execution_count": 5,
   "metadata": {},
   "outputs": [
    {
     "name": "stdout",
     "output_type": "stream",
     "text": [
      "{1: {0: {'weight': 10}}, 2: {0: {'weight': 1}}}\n",
      "{0: {'weight': 10}}\n"
     ]
    }
   ],
   "source": [
    "# Pruebas con NX MultiDiGraph\n",
    "mg = nx.MultiDiGraph()\n",
    "\n",
    "l_e = [(0,1,10), (0,2,1), (1,2,1), (2,3,1), (3,1,1)]\n",
    "\n",
    "#mg.add_weighted_edges_from(l_e)\n",
    "mg.add_weighted_edges_from(l_e)\n",
    "\n",
    "\n",
    "print(mg[0])\n",
    "\n",
    "print(mg[0][1])"
   ]
  },
  {
   "cell_type": "code",
   "execution_count": 67,
   "metadata": {},
   "outputs": [],
   "source": [
    "# Ejercicio 2A: Detectando caminos eulerianos.\n",
    "\n",
    "def adj_inc_directed_multigraph(d_mg):\n",
    "    inc = [0]*len(d_mg)\n",
    "    adj = [[]]*len(d_mg)\n",
    "    for u in d_mg.keys():\n",
    "        sub_adj = []\n",
    "        for v in d_mg[u].keys():\n",
    "            inc[v] = inc[v] + len(d_mg[u][v])\n",
    "            if len(d_mg[u][v]) != 0:\n",
    "                sub_adj.append(v)\n",
    "        adj[u] = sub_adj\n",
    "    return (inc, adj)\n"
   ]
  },
  {
   "cell_type": "code",
   "execution_count": 69,
   "metadata": {},
   "outputs": [
    {
     "name": "stdout",
     "output_type": "stream",
     "text": [
      "[[1 2 1]\n",
      " [1 1 1]\n",
      " [1 3 2]]\n",
      "(0,0): [[1]]\n",
      "(0,1): [[1], [1]]\n",
      "(0,2): [[1]]\n",
      "(1,0): [[1]]\n",
      "(1,1): [[1]]\n",
      "(1,2): [[1]]\n",
      "(2,0): [[1]]\n",
      "(2,1): [[1], [1], [1]]\n",
      "(2,2): [[1], [1]]\n",
      "[3, 6, 4] [[0, 1, 2], [0, 1, 2], [0, 1, 2]]\n"
     ]
    }
   ],
   "source": [
    "m_mg = rand_unweight_multigraph(3, num_max_multiple_edges = 3, prob = 0.5)\n",
    "d_mg = m_mg_2_d_mg(m_mg)\n",
    "print(m_mg)\n",
    "print_multi_graph(d_mg)\n",
    "inc, adj = adj_inc_directed_multigraph(d_mg)\n",
    "print(inc, adj)\n"
   ]
  },
  {
   "cell_type": "code",
   "execution_count": null,
   "metadata": {},
   "outputs": [],
   "source": []
  }
 ],
 "metadata": {
  "kernelspec": {
   "display_name": "Python 3",
   "language": "python",
   "name": "python3"
  },
  "language_info": {
   "codemirror_mode": {
    "name": "ipython",
    "version": 3
   },
   "file_extension": ".py",
   "mimetype": "text/x-python",
   "name": "python",
   "nbconvert_exporter": "python",
   "pygments_lexer": "ipython3",
   "version": "3.5.2"
  }
 },
 "nbformat": 4,
 "nbformat_minor": 2
}
