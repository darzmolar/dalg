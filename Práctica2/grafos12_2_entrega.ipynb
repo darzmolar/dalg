{
 "cells": [
  {
   "cell_type": "code",
   "execution_count": 1,
   "metadata": {},
   "outputs": [],
   "source": [
    "\"\"\"\n",
    "Created on Wed Oct 19 15:48:00 2018\n",
    "\n",
    "@author: Daniel Cuesta, Alejandro Garo\n",
    "\"\"\"\n",
    "\n",
    "import string, random\n",
    "import numpy as np\n",
    "import matplotlib.pyplot as plt\n",
    "import sys\n",
    "import time\n",
    "\n",
    "import queue\n",
    "\n",
    "from sklearn.linear_model import LinearRegression\n",
    "\n",
    "import networkx as nx"
   ]
  },
  {
   "cell_type": "code",
   "execution_count": 2,
   "metadata": {},
   "outputs": [
    {
     "name": "stdout",
     "output_type": "stream",
     "text": [
      "[[1 0 2]\n",
      " [2 1 2]\n",
      " [3 0 1]]\n"
     ]
    }
   ],
   "source": [
    "m_mg = np.random.binomial(3,0.5,(3,3))\n",
    "print(m_mg)"
   ]
  },
  {
   "cell_type": "code",
   "execution_count": 3,
   "metadata": {},
   "outputs": [],
   "source": [
    "# Ejercicio 1B: Agrandando nuestra ED\n",
    "def m_mg_2_d_mg(m_mg):\n",
    "    \"\"\"\n",
    "    De un multigrafo dirigido sin pesos, genera un diccionario de adyacencia a partir de su matriz de adyacencia.\n",
    "    g[u]: diccionario de diccionarios con los nodos destino y el num de caminos con su peso (1 por ser unweighted)\n",
    "    g[u][v]: num de caminos con su peso (1)\n",
    "    Devuelve la matriz de adyacencia.\n",
    "\n",
    "    Parámetros\n",
    "    ----------\n",
    "    m_mg: matriz de adyacencia, contiene el numero de caminos del nodo u al uv\n",
    "    \"\"\"\n",
    "    for i in range(m_mg.shape[0]):\n",
    "        d_mg[i] = {}\n",
    "        for j in range(m_mg.shape[1]):\n",
    "            d_mg[i][j] = {}\n",
    "            for n_edge in range(m_mg[i][j]):\n",
    "                d_mg[i][j].update({n_edge : 1})\n",
    "    return d_mg\n",
    "\n",
    "def rand_unweight_multigraph(n_nodes, num_max_multiple_edges = 3, prob = 0.5):\n",
    "    \"\"\"\n",
    "    Genera un multigrafo dirigido sin pesos haciendo uso del metodo binomial del paquete random de numpy.\n",
    "    Parámetros\n",
    "    ----------\n",
    "    n_nodes: numero de nodos\n",
    "    num_max_multiple_edges: numero maximo de aristas de un nodo\n",
    "    prob: probabilidad de generacion de las aristas\n",
    "    \"\"\"\n",
    "    return np.random.binomial(num_max_multiple_edges, prob, (n_nodes,n_nodes))\n",
    "\n",
    "\n",
    "def graph_2_multigraph(d_g):\n",
    "    \"\"\"\n",
    "    Convierte un grafo que usa nuestra ED diccionario anterior a la nueva\n",
    "\n",
    "    Parámetros\n",
    "    ----------\n",
    "    d_g: grafo usando la ED diccionario anterior\n",
    "    \"\"\"\n",
    "    d_mg = {}\n",
    "    for u in d_g.keys():\n",
    "        d_mg.update({u : {}})\n",
    "        # print(d_mg[u])\n",
    "        #\n",
    "        #\n",
    "        #TODO saber si hay que meter caminos repetidos\n",
    "        for v in d_g[u].keys():\n",
    "            d_mg[u].update({v:{0:1}})\n",
    "        # print(d_mg[u])\n",
    "        # if d_mg[u][v] is v:\n",
    "        #     d_mg[u].update({int(d_mg[u][v]) + 1 : 1})\n",
    "        #     print(d_mg[u])\n",
    "                \n",
    "            \n",
    "def print_multi_graph(d_mg):\n",
    "    \"\"\"\n",
    "    Imprime el multigrafo dirigido sin pesos\n",
    "    \n",
    "    Parámetros\n",
    "    ----------\n",
    "    d_mg: multigrafo usando la ED diccionario\n",
    "    \"\"\"\n",
    "    for u in d_mg.keys():\n",
    "        # print(d_mg[u])\n",
    "        for v in d_mg[u].keys():\n",
    "            l_w = []\n",
    "            for w in d_mg[u][v].keys():\n",
    "                l_w.append([d_mg[u][v][w]])\n",
    "            print(\"(\" + str(u) + \",\" + str(v) + \")\" + \": \" + str(l_w))"
   ]
  },
  {
   "cell_type": "code",
   "execution_count": 4,
   "metadata": {
    "scrolled": false
   },
   "outputs": [],
   "source": [
    "# Prueba\n",
    "\n",
    "# m_mg a d_mg\n",
    "# m_mg = rand_unweight_multigraph(3, num_max_multiple_edges = 3, prob = 0.5)\n",
    "# d_mg = m_mg_2_d_mg(m_mg)\n",
    "# print(m_mg)\n",
    "# print_multi_graph(d_mg)\n",
    "\n",
    "# d_g a d_mg\n",
    "d_g = {\n",
    "    0: {0: 1, 1: 1, 2: 1},\n",
    "    1: {0:1, 2: 1},\n",
    "    2: {3: 1},\n",
    "    3: {1: 1}\n",
    "}\n",
    "graph_2_multigraph(d_g)"
   ]
  },
  {
   "cell_type": "code",
   "execution_count": 5,
   "metadata": {},
   "outputs": [
    {
     "name": "stdout",
     "output_type": "stream",
     "text": [
      "{1: {0: {'weight': 10}}, 2: {0: {'weight': 1}}}\n",
      "{0: {'weight': 10}}\n"
     ]
    }
   ],
   "source": [
    "# Pruebas con NX MultiDiGraph\n",
    "mg = nx.MultiDiGraph()\n",
    "\n",
    "l_e = [(0,1,10), (0,2,1), (1,2,1), (2,3,1), (3,1,1)]\n",
    "\n",
    "#mg.add_weighted_edges_from(l_e)\n",
    "mg.add_weighted_edges_from(l_e)\n",
    "\n",
    "\n",
    "print(mg[0])\n",
    "\n",
    "print(mg[0][1])"
   ]
  },
  {
   "cell_type": "code",
   "execution_count": 6,
   "metadata": {},
   "outputs": [],
   "source": [
    "# Ejercicio 2A: Detectando caminos eulerianos.\n",
    "\n",
    "def adj_inc_directed_multigraph(d_mg):\n",
    "    \"\"\"\n",
    "    Devuelve las adyacencias e incidencias de cada vertice del multigrafo d_mg\n",
    "    \n",
    "    Parámetros\n",
    "    ----------\n",
    "    d_mg: multigrafo usando la ED diccionario\n",
    "    \"\"\"\n",
    "    \n",
    "    inc = [0]*len(d_mg)\n",
    "    adj = [0]*len(d_mg)\n",
    "    for u in d_mg.keys():\n",
    "        for v in d_mg[u].keys():\n",
    "            #evitamos contar los ciclos en un mismo nodo\n",
    "            if u != v:\n",
    "                adj[u] = adj[u] + len(d_mg[u][v])\n",
    "                inc[v] = inc[v] + len(d_mg[u][v])\n",
    "\n",
    "    return (inc, adj)\n"
   ]
  },
  {
   "cell_type": "code",
   "execution_count": 7,
   "metadata": {
    "scrolled": true
   },
   "outputs": [
    {
     "name": "stdout",
     "output_type": "stream",
     "text": [
      "[[0 0 1 1 2]\n",
      " [0 1 2 2 2]\n",
      " [2 1 0 1 0]\n",
      " [2 1 0 1 0]\n",
      " [0 0 2 0 1]] {0: {0: {}, 1: {}, 2: {0: 1}, 3: {0: 1}, 4: {0: 1, 1: 1}}, 1: {0: {}, 1: {0: 1}, 2: {0: 1, 1: 1}, 3: {0: 1, 1: 1}, 4: {0: 1, 1: 1}}, 2: {0: {0: 1, 1: 1}, 1: {0: 1}, 2: {}, 3: {0: 1}, 4: {}}, 3: {0: {0: 1, 1: 1}, 1: {0: 1}, 2: {}, 3: {0: 1}, 4: {}}, 4: {0: {}, 1: {}, 2: {0: 1, 1: 1}, 3: {}, 4: {0: 1}}, 5: {8: {0: 1}}, 6: {5: {0: 1}}, 7: {6: {0: 1}}, 8: {2: {0: 1}}, 9: {7: {0: 1}}}\n",
      "(0,0): []\n",
      "(0,1): []\n",
      "(0,2): [[1]]\n",
      "(0,3): [[1]]\n",
      "(0,4): [[1], [1]]\n",
      "(1,0): []\n",
      "(1,1): [[1]]\n",
      "(1,2): [[1], [1]]\n",
      "(1,3): [[1], [1]]\n",
      "(1,4): [[1], [1]]\n",
      "(2,0): [[1], [1]]\n",
      "(2,1): [[1]]\n",
      "(2,2): []\n",
      "(2,3): [[1]]\n",
      "(2,4): []\n",
      "(3,0): [[1], [1]]\n",
      "(3,1): [[1]]\n",
      "(3,2): []\n",
      "(3,3): [[1]]\n",
      "(3,4): []\n",
      "(4,0): []\n",
      "(4,1): []\n",
      "(4,2): [[1], [1]]\n",
      "(4,3): []\n",
      "(4,4): [[1]]\n",
      "(5,8): [[1]]\n",
      "(6,5): [[1]]\n",
      "(7,6): [[1]]\n",
      "(8,2): [[1]]\n",
      "(9,7): [[1]]\n",
      "[4, 2, 6, 4, 4, 1, 1, 1, 1, 0] [4, 6, 4, 3, 2, 1, 1, 1, 1, 1]\n"
     ]
    }
   ],
   "source": [
    "m_mg = rand_unweight_multigraph(5, num_max_multiple_edges = 2, prob = 0.5)\n",
    "d_mg = d_mg = { 0: {1: {0: 1}}, 1: {3: {0: 1}}, 2: {0: {0: 1}}, 3: {4: {0:1}}, 4: {9: {0:1}}, 5: {8: {0:1}}, 6: {5: {0:1}}, 7: {6: {0:1}}, 8: {2: {0:1}}, 9: {7: {0:1}} }\n",
    "d_mg= m_mg_2_d_mg(m_mg)\n",
    "print(m_mg, d_mg)\n",
    "print_multi_graph(d_mg)\n",
    "inc, adj = adj_inc_directed_multigraph(d_mg)\n",
    "print(inc, adj)\n"
   ]
  },
  {
   "cell_type": "code",
   "execution_count": 8,
   "metadata": {},
   "outputs": [],
   "source": [
    "def isthere_euler_path_directed_multigraph(d_mg):\n",
    "    \"\"\"\n",
    "    Devuelve True o False segun haya o no un camino euleriano en el multigrafo d_mg\n",
    "    \n",
    "    Parámetros\n",
    "    ----------\n",
    "    d_mg: multigrafo usando la ED diccionario\n",
    "    \"\"\"\n",
    "    \n",
    "    inc, adj = adj_inc_directed_multigraph(d_mg)\n",
    "    \n",
    "    if sum(inc) != sum(adj):\n",
    "        return False\n",
    "    \n",
    "    l = [adj_i - inc_i for adj_i, inc_i in zip(adj, inc)]\n",
    "    k = 0\n",
    "    for u in l:\n",
    "        if u == 1:\n",
    "            k+=1\n",
    "        if u > 1 or u < -1 or (inc[u] == 0 and adj[u] == 0) or k == 2:\n",
    "            return False\n",
    "    \n",
    "    return True\n"
   ]
  },
  {
   "cell_type": "code",
   "execution_count": 36,
   "metadata": {
    "scrolled": true
   },
   "outputs": [
    {
     "name": "stdout",
     "output_type": "stream",
     "text": [
      "{0: {1: {0: 1}}, 1: {3: {0: 1}}, 2: {0: {0: 1}}, 3: {4: {0: 1}}, 4: {9: {0: 1}}, 5: {8: {0: 1}}, 6: {5: {0: 1}}, 7: {6: {0: 1}}, 8: {2: {0: 1}}, 9: {7: {0: 1}}}\n",
      "(0,1): [[1]]\n",
      "(1,3): [[1]]\n",
      "(2,0): [[1]]\n",
      "(3,4): [[1]]\n",
      "(4,9): [[1]]\n",
      "(5,8): [[1]]\n",
      "(6,5): [[1]]\n",
      "(7,6): [[1]]\n",
      "(8,2): [[1]]\n",
      "(9,7): [[1]]\n",
      "[1, 1, 1, 1, 1, 1, 1, 1, 1, 1] [1, 1, 1, 1, 1, 1, 1, 1, 1, 1]\n"
     ]
    },
    {
     "data": {
      "text/plain": [
       "True"
      ]
     },
     "execution_count": 36,
     "metadata": {},
     "output_type": "execute_result"
    }
   ],
   "source": [
    "m_mg = rand_unweight_multigraph(5, num_max_multiple_edges = 1, prob = 0.5)\n",
    "d_mg = d_mg = { 0: {1: {0: 1}}, 1: {3: {0: 1}}, 2: {0: {0: 1}}, 3: {4: {0:1}}, 4: {9: {0:1}}, 5: {8: {0:1}}, 6: {5: {0:1}}, 7: {6: {0:1}}, 8: {2: {0:1}}, 9: {7: {0:1}} }\n",
    "# d_mg= m_mg_2_d_mg(m_mg)\n",
    "print(d_mg)\n",
    "print_multi_graph(d_mg)\n",
    "inc, adj = adj_inc_directed_multigraph(d_mg)\n",
    "print(inc, adj)\n",
    "isthere_euler_path_directed_multigraph(d_mg)"
   ]
  },
  {
   "cell_type": "code",
   "execution_count": 37,
   "metadata": {},
   "outputs": [],
   "source": [
    "def first_last_euler_path_directed_multigraph(d_mg):\n",
    "    \"\"\"\n",
    "    Devuelve el punto inicial y el punto final del multigrafo d_mg\n",
    "    \n",
    "    Parámetros\n",
    "    ----------\n",
    "    d_mg: multigrafo usando la ED diccionario\n",
    "    \"\"\"\n",
    "    \n",
    "    first = []\n",
    "    last = []\n",
    "    \n",
    "    if isthere_euler_path_directed_multigraph(d_mg) == False:\n",
    "        return []\n",
    "    \n",
    "    inc, adj = adj_inc_directed_multigraph(d_mg)\n",
    "    \n",
    "    for u in range(len(inc)):\n",
    "        if inc[u] - adj[u] > 0:\n",
    "            last = u\n",
    "        \n",
    "        if inc[u] - adj[u] < 0:\n",
    "            first = u\n",
    "    \n",
    "    if first == [] or last == []:\n",
    "        first = 0\n",
    "        last = 0\n",
    "    \n",
    "    return first, last"
   ]
  },
  {
   "cell_type": "code",
   "execution_count": 38,
   "metadata": {
    "scrolled": true
   },
   "outputs": [
    {
     "data": {
      "text/plain": [
       "(0, 0)"
      ]
     },
     "execution_count": 38,
     "metadata": {},
     "output_type": "execute_result"
    }
   ],
   "source": [
    "first_last_euler_path_directed_multigraph(d_mg)"
   ]
  },
  {
   "cell_type": "code",
   "execution_count": 39,
   "metadata": {},
   "outputs": [],
   "source": [
    "def euler_walk_directed_multigraph(u, d_mg):\n",
    "    \"\"\"\n",
    "    Devuelve un camino euleriano del multigrafo d_mg\n",
    "    \n",
    "    Parámetros\n",
    "    ----------\n",
    "    u: vertice inicial\n",
    "    d_mg: multigrafo usando la ED diccionario\n",
    "    \"\"\"\n",
    "    \n",
    "    cam_eu = [u]\n",
    "    n_act = u\n",
    "    \n",
    "    inc, adj = adj_inc_directed_multigraph(d_mg)\n",
    "    \n",
    "    if adj[u] == 0:\n",
    "        return []\n",
    "\n",
    "    for x in d_mg.keys():\n",
    "        if n_act == x:\n",
    "            for y in d_mg[x].keys():\n",
    "                if n_act != y:\n",
    "                    cam_eu.append(y)\n",
    "                    if list(d_mg[x][y].keys()) != []:\n",
    "                        k = list(d_mg[x][y].keys())[0]\n",
    "                        del d_mg[x][y][k]\n",
    "                        adj[x] = adj[x] - 1\n",
    "                        inc[y] = inc[y] - 1\n",
    "                        n_act = y\n",
    "    return cam_eu\n",
    "    \n",
    "    "
   ]
  },
  {
   "cell_type": "code",
   "execution_count": 40,
   "metadata": {},
   "outputs": [
    {
     "data": {
      "text/plain": [
       "[5, 8, 2]"
      ]
     },
     "execution_count": 40,
     "metadata": {},
     "output_type": "execute_result"
    }
   ],
   "source": [
    "euler_walk_directed_multigraph(5,d_mg)"
   ]
  },
  {
   "cell_type": "code",
   "execution_count": 14,
   "metadata": {},
   "outputs": [],
   "source": [
    "l_path = [5, 8, 2]\n",
    "d_mg = { 0: {1: {0: 1}}, 1: {3: {0: 1}}, 2: {0: {0: 1}}, 3: {4: {0:1}}, 4: {9: {0:1}}, 5: {}, 6: {}, 7: {6: {0:1}}, 8: {2: {0:1}}, 9: {7: {0:1}} }"
   ]
  },
  {
   "cell_type": "code",
   "execution_count": 15,
   "metadata": {},
   "outputs": [],
   "source": [
    "def next_first_node(l_path, d_mg):\n",
    "    \"\"\"\n",
    "    Devuelve el siguiente nodo del camino euleriano del multigrafo d_mg\n",
    "    \n",
    "    Parámetros\n",
    "    ----------\n",
    "    l_path: lista de nodos visitados\n",
    "    d_mg: multigrafo usando la ED diccionario\n",
    "    \"\"\"\n",
    "    \n",
    "    u = l_path[-1]\n",
    "    \n",
    "    l_2 = euler_walk_directed_multigraph(u, d_mg)\n",
    "    \n",
    "    return l_2[1]\n",
    "    \n",
    "    "
   ]
  },
  {
   "cell_type": "code",
   "execution_count": 16,
   "metadata": {},
   "outputs": [
    {
     "data": {
      "text/plain": [
       "0"
      ]
     },
     "execution_count": 16,
     "metadata": {},
     "output_type": "execute_result"
    }
   ],
   "source": [
    "next_first_node(l_path, d_mg)"
   ]
  },
  {
   "cell_type": "code",
   "execution_count": 17,
   "metadata": {},
   "outputs": [],
   "source": [
    "path_1 = [5, 8]\n",
    "path_2 = [8, 2, 0, 1, 3, 4, 9, 7, 6]"
   ]
  },
  {
   "cell_type": "code",
   "execution_count": 18,
   "metadata": {},
   "outputs": [],
   "source": [
    "def path_stitch(path_1, path_2):\n",
    "    \"\"\"\n",
    "    Devuelve la union de las dos listas\n",
    "    \n",
    "    Parámetros\n",
    "    ----------\n",
    "    path1: lista de nodos 1\n",
    "    path2: lista de nodos 2\n",
    "    \"\"\"    \n",
    "    \n",
    "    if path_1[-1] == path_2[0]:\n",
    "        l_path = path_1\n",
    "        l_path.pop(-1)\n",
    "        for x in range(len(path_2)):\n",
    "            l_path.append(path_2[x])\n",
    "    else:\n",
    "        l_path = path_2\n",
    "        l_path.pop(-1)\n",
    "        for x in range(len(path_1)):\n",
    "            l_path.append(path_1[x])\n",
    "    \n",
    "    return l_path\n",
    "    "
   ]
  },
  {
   "cell_type": "code",
   "execution_count": 19,
   "metadata": {},
   "outputs": [
    {
     "data": {
      "text/plain": [
       "[5, 8, 2, 0, 1, 3, 4, 9, 7, 6]"
      ]
     },
     "execution_count": 19,
     "metadata": {},
     "output_type": "execute_result"
    }
   ],
   "source": [
    "path_stitch(path_1, path_2)"
   ]
  },
  {
   "cell_type": "code",
   "execution_count": 20,
   "metadata": {},
   "outputs": [],
   "source": [
    "d_mg = { 0: {1: {0: 1}}, 1: {3: {0: 1}}, 2: {0: {0: 1}}, 3: {4: {0:1}}, 4: {9: {0:1}}, 5: {8: {0:1}}, 6: {5: {0:1}}, 7: {6: {0:1}}, 8: {2: {0:1}}, 9: {7: {0:1}} }"
   ]
  },
  {
   "cell_type": "code",
   "execution_count": 21,
   "metadata": {},
   "outputs": [],
   "source": [
    "def euler_path_directed_multigraph(d_mg):\n",
    "    \"\"\"\n",
    "    Devuelve el camino del multigrafo d_mg\n",
    "    \n",
    "    Parámetros\n",
    "    ----------\n",
    "    l_path: lista de nodos visitados\n",
    "    d_mg: multigrafo usando la ED diccionario\n",
    "    \"\"\"\n",
    "    \n",
    "    l_path = []\n",
    "    \n",
    "    for x in d_mg.keys():\n",
    "        if l_path == []:\n",
    "            l_path = euler_walk_directed_multigraph(x, d_mg)\n",
    "            \n",
    "        else:\n",
    "            path_aux = euler_walk_directed_multigraph(x, d_mg)\n",
    "            if path_aux != []:\n",
    "                l_path = path_stitch(l_path, path_aux)\n",
    "    \n",
    "    return l_path\n",
    "    "
   ]
  },
  {
   "cell_type": "code",
   "execution_count": 22,
   "metadata": {},
   "outputs": [
    {
     "data": {
      "text/plain": [
       "[6, 5, 8, 2, 0, 1, 3, 4, 9, 7, 6]"
      ]
     },
     "execution_count": 22,
     "metadata": {},
     "output_type": "execute_result"
    }
   ],
   "source": [
    "euler_path_directed_multigraph(d_mg)"
   ]
  },
  {
   "cell_type": "code",
   "execution_count": 23,
   "metadata": {},
   "outputs": [],
   "source": [
    "d_mg = { 0: {1: {0: 1}}, 1: {3: {0: 1}}, 2: {0: {0: 1}}, 3: {4: {0:1}}, 4: {9: {0:1}}, 5: {8: {0:1}}, 6: {5: {0:1}}, 7: {6: {0:1}}, 8: {2: {0:1}}, 9: {7: {0:1}} }"
   ]
  },
  {
   "cell_type": "code",
   "execution_count": 24,
   "metadata": {},
   "outputs": [],
   "source": [
    "def isthere_euler_circuit_directed_multigraph(d_mg):\n",
    "    \"\"\"\n",
    "    Devuelve True o False segun haya o no un circuito euleriano en el multigrafo d_mg\n",
    "    \n",
    "    Parámetros\n",
    "    ----------\n",
    "    d_mg: multigrafo usando la ED diccionario\n",
    "    \"\"\"\n",
    "    \n",
    "    if isthere_euler_path_directed_multigraph == False:\n",
    "        return False\n",
    "    \n",
    "    first, last = first_last_euler_path_directed_multigraph(d_mg)\n",
    "    \n",
    "    if first != last:\n",
    "        return False\n",
    "    \n",
    "    return True\n"
   ]
  },
  {
   "cell_type": "code",
   "execution_count": 25,
   "metadata": {},
   "outputs": [
    {
     "data": {
      "text/plain": [
       "True"
      ]
     },
     "execution_count": 25,
     "metadata": {},
     "output_type": "execute_result"
    }
   ],
   "source": [
    "isthere_euler_circuit_directed_multigraph(d_mg)"
   ]
  },
  {
   "cell_type": "code",
   "execution_count": 26,
   "metadata": {},
   "outputs": [],
   "source": [
    "def euler_circuit_directed_multigraph(d_mg, u=0):\n",
    "    \n",
    "    if isthere_euler_circuit_directed_multigraph == False:\n",
    "        return\n",
    "    \n",
    "    cam_eu = [u]\n",
    "    n_act = u\n",
    "    \n",
    "    inc, adj = adj_inc_directed_multigraph(d_mg)\n",
    "    \n",
    "    if adj[u] == 0:\n",
    "        return []\n",
    "    while sum(inc) != 0:\n",
    "        for x in d_mg.keys():\n",
    "            if n_act == x:\n",
    "                for y in d_mg[x].keys():\n",
    "                    if n_act != y:\n",
    "                        cam_eu.append(y)\n",
    "                        if list(d_mg[x][y].keys()) != []:\n",
    "                            k = list(d_mg[x][y].keys())[0]\n",
    "                            del d_mg[x][y][k]\n",
    "                            adj[x] = adj[x] - 1\n",
    "                            inc[y] = inc[y] - 1\n",
    "                            n_act = y\n",
    "    return cam_eu\n",
    "    "
   ]
  },
  {
   "cell_type": "code",
   "execution_count": 27,
   "metadata": {},
   "outputs": [
    {
     "data": {
      "text/plain": [
       "[0, 1, 3, 4, 9, 7, 6, 5, 8, 2, 0]"
      ]
     },
     "execution_count": 27,
     "metadata": {},
     "output_type": "execute_result"
    }
   ],
   "source": [
    "euler_circuit_directed_multigraph(d_mg, u=0)"
   ]
  },
  {
   "cell_type": "code",
   "execution_count": 157,
   "metadata": {},
   "outputs": [],
   "source": [
    "# Ejercicio 3-A Secuenciación de lecturas\n",
    "\n",
    "def random_sequence(len_seq):\n",
    "    \"\"\"\n",
    "    Genera una secuencia aleatoria de longitud len_seq\n",
    "    \n",
    "    Parámetros\n",
    "    ----------\n",
    "    len_seq:longitud de la secuencia\n",
    "    \"\"\"\n",
    "    seq = []\n",
    "    elems_seq = ['A', 'C', 'G', 'T']\n",
    "    for i in range(len_seq):\n",
    "        seq.append(random.choice(elems_seq))\n",
    "    return seq\n",
    "\n",
    "\n",
    "def spectrum(sequence, len_read):\n",
    "    \"\"\"\n",
    "    Genera un l-espectro a partir de la secuencia con tamaño de lectura len_read \n",
    "    Si el tamaño es incorrecto devuelve []\n",
    "\n",
    "    Parámetros\n",
    "    ----------\n",
    "    sequence: secuencia\n",
    "    len_read: tamaño de lectura\n",
    "    \"\"\"\n",
    "    l_spectr = []\n",
    "    lrandom_spectr = []\n",
    "    i = 0\n",
    "    # for i in range(len(sequence)):\n",
    "    if len_read < 2:\n",
    "        print(\"Tamaño de lectura incorrecta.\")\n",
    "        return []\n",
    "    \n",
    "    while(len(sequence[i : i + len_read : ]) == len_read):\n",
    "        if sequence[i: i + len_read:] not in l_spectr:\n",
    "            l_spectr.append(sequence[i: i + len_read:])\n",
    "        # l_spectr.append(sequence[i: i + len_read:])\n",
    "        i += 1\n",
    "    # print(\"ESPECTRO ORDENADO: \", l_spectr)\n",
    "    return random.sample(l_spectr, len(l_spectr))\n",
    "\n",
    "def spectrum_2(spectr):\n",
    "    \"\"\"\n",
    "    Genera un (l-1)-espectro a partir de un l-espectro\n",
    "    Si el tamaño es incorrecto devuelve []\n",
    "    Parámetros\n",
    "    ----------\n",
    "    spectr: l-espectro\n",
    "    \"\"\"\n",
    "    if len(spectr[0]) < 2:\n",
    "        print(\"Tamaño de espectro incorrecto\")\n",
    "        return []\n",
    "    \n",
    "    l1_spectr = []\n",
    "    for sub_spectr in spectr:\n",
    "        if sub_spectr[:len(sub_spectr) - 1] not in l1_spectr:\n",
    "            l1_spectr.append(sub_spectr[:len(sub_spectr) - 1])\n",
    "        if sub_spectr[1 : len(sub_spectr)] not in l1_spectr:\n",
    "            l1_spectr.append(sub_spectr[1 : len(sub_spectr)])\n",
    "    return l1_spectr\n",
    "\n",
    "def spectrum_2_graph(spectr):\n",
    "    \"\"\"\n",
    "    Genera el diccionario asociado a un espectro\n",
    "    \n",
    "    Parámetros\n",
    "    ----------\n",
    "    spectr: espectro\n",
    "    \"\"\"\n",
    "    d_mg = {}\n",
    "    n_paths = 0\n",
    "    \n",
    "    for sub_spectr in spectr:\n",
    "        d_mg[spectr.index(sub_spectr)] = {}\n",
    "        # print(\"Sub_spectr: \", sub_spectr)\n",
    "        # print(\"D_MG1: \", d_mg)\n",
    "        # print(\"Index: \", spectr.index(sub_spectr))\n",
    "        for i, end_sub_spectr in enumerate(spectr):\n",
    "            # Compruebo si hace ciclo:\n",
    "            if i != d_mg[spectr.index(sub_spectr)]:\n",
    "                if sub_spectr[1:] == end_sub_spectr[:len(end_sub_spectr) - 1]:\n",
    "                    d_mg[spectr.index(sub_spectr)].update({spectr.index(end_sub_spectr) : {n_paths : 1}})\n",
    "                    #print(spectr.index(sub_spectr))\n",
    "                    #print(spectr.index(end_sub_spectr))\n",
    "                    n_paths += 1\n",
    "            n_paths = 0\n",
    "        # if d_mg[spectr.index(sub_spectr)] == {}:\n",
    "        #     print(\"Vacio\")\n",
    "    # print(d_mg)\n",
    "    return d_mg"
   ]
  },
  {
   "cell_type": "code",
   "execution_count": 158,
   "metadata": {},
   "outputs": [
    {
     "name": "stdout",
     "output_type": "stream",
     "text": [
      "Secuencia\n",
      "['C', 'C', 'G', 'A', 'A']\n",
      "Espectro l\n",
      "[['G', 'A', 'A'], ['C', 'C', 'G'], ['C', 'G', 'A']]\n",
      "Espectro l-1\n",
      "[['G', 'A'], ['A', 'A'], ['C', 'C'], ['C', 'G']]\n",
      "Dicts\n",
      "{0: {}, 1: {2: {0: 1}}, 2: {0: {0: 1}}} \n",
      " {0: {1: {0: 1}}, 1: {1: {0: 1}}, 2: {2: {0: 1}, 3: {0: 1}}, 3: {0: {0: 1}}}\n"
     ]
    }
   ],
   "source": [
    "seq = random_sequence(5)\n",
    "print(\"Secuencia\")\n",
    "print(seq)\n",
    "\n",
    "l_spectr = spectrum(seq, 3)\n",
    "print(\"Espectro l\")\n",
    "print(l_spectr)\n",
    "\n",
    "l1_spectr = spectrum_2(l_spectr)\n",
    "print(\"Espectro l-1\")\n",
    "print(l1_spectr)\n",
    "\n",
    "d_mg = spectrum_2_graph(l_spectr)\n",
    "d1_mg = spectrum_2_graph(l1_spectr)\n",
    "print(\"Dicts\")\n",
    "print(d_mg, \"\\n\", d1_mg)"
   ]
  },
  {
   "cell_type": "code",
   "execution_count": 128,
   "metadata": {},
   "outputs": [],
   "source": [
    "# Ejercicio 3-B Todo junto\n",
    "\n",
    "def check_sequencing(len_seq, len_read, l_spectr = []):\n",
    "    \"\"\"\n",
    "    Construye un espectro con lecturas de tamaño len_read y su camino euleriano.\n",
    "    Si no tuviera camino euleriano, lo devuelve como []\n",
    "    Devuelve el camino y el espectro.\n",
    "    Parámetros\n",
    "    ----------\n",
    "    len_seq: longitud de la secuencia\n",
    "    len_read: longitud de las lecturas\n",
    "    \"\"\"\n",
    "    if l_spectr == []:\n",
    "        # Genero la secuencia\n",
    "        seq = random_sequence(len_seq)\n",
    "        print(\"Secuencia\")\n",
    "        print(seq)\n",
    "        # Genero los espectros\n",
    "        l_spectr = spectrum(seq, len_read)\n",
    "        # print(\"Espectro desordenado\")\n",
    "        # print(l_spectr)\n",
    "\n",
    "    # Las convierto a dict y busco el camino euleriano\n",
    "    dg_mg_spectr = spectrum_2_graph(l_spectr)\n",
    "    # print(\"Dicts\")\n",
    "    # print(dg_mg_spectr)\n",
    "    \n",
    "    # Check de las adyacencias e incidencias\n",
    "    inc, adj = adj_inc_directed_multigraph(dg_mg_spectr)\n",
    "    # print(inc, adj)\n",
    "    dg_mg_u= first_last_euler_path_directed_multigraph(dg_mg_spectr)    \n",
    "    # print(\"Nodo inicial y final:\")\n",
    "    # print(dg_mg_u)\n",
    "    if dg_mg_u != []:\n",
    "        for i in range(len(adj)):\n",
    "            if i == dg_mg_u[0]:           # Nodo inicial, inc[0] = adj[0] - 1\n",
    "                if inc[i] != adj[i] - 1:\n",
    "                    print(\"La incidencia del nodo inicial tiene que ser la adyacencia del nodo inicial - 1\")\n",
    "                    return [], l_spectr \n",
    "            elif i == dg_mg_u[1]:\n",
    "                if inc[i] != adj[i] + 1:          # Nodo final, inc[last] = adj[last] + 1\n",
    "                    print(\"La incidencia del nodo final tiene que ser la adyacencia del nodo final + 1\")\n",
    "                    return [], l_spectr\n",
    "            else:\n",
    "                if inc[i] != adj[i]:\n",
    "                    print(\"Los nodos intermedios tienen que tener adyacencias e incidencias iguales\")\n",
    "                    return [], l_spectr\n",
    "    else:\n",
    "        print(\"No hay camino euleriano\")\n",
    "        return [], l_spectr\n",
    "\n",
    "    # Obtencion del EP\n",
    "    ep_seq = euler_path_directed_multigraph(dg_mg_spectr)\n",
    "    print(\"Camino euleriano de seq: \" + str(ep_seq))\n",
    "    \n",
    "    return ep_seq, l_spectr\n",
    "        \n",
    "def path_2_sequence(l_path, spectrum_2):\n",
    "    \"\"\"\n",
    "    Reconstruye una secuencia dado un camino euleriano y su espectro\n",
    "    Devuelve el camino y el espectro, en caso de no existir camino euleriano \n",
    "    o fallo en la longitud de las lecturas, devuelve []\n",
    "    \n",
    "    Parámetros\n",
    "    ----------\n",
    "    l_path: camino\n",
    "    spectrum_2: espectro\n",
    "    \"\"\"\n",
    "    \n",
    "    if l_path is []:\n",
    "        print(\"No existe camino euleriano para este espectro.\")\n",
    "        return []\n",
    "    \n",
    "    # print(l_path, spectrum_2)\n",
    "    if len(spectrum_2[0]) < 2:\n",
    "        print(\"Tamaño de secuencia incorrecta\")\n",
    "        return []\n",
    "    \n",
    "    # Las convierto a dict y busco el camino euleriano\n",
    "    dg_mg_spectr = spectrum_2_graph(spectrum_2)\n",
    "    # print(\"Dicts\")\n",
    "    # print(dg_mg_spectr)\n",
    "    \n",
    "    # Check de las adyacencias e incidencias\n",
    "    inc, adj = adj_inc_directed_multigraph(dg_mg_spectr)\n",
    "    # print(inc, adj)\n",
    "    dg_mg_u = first_last_euler_path_directed_multigraph(dg_mg_spectr)    \n",
    "    # print(\"Nodo inicial y final:\")\n",
    "    # print(dg_mg_u)\n",
    "    if dg_mg_u != []:\n",
    "        for i in range(len(adj)):\n",
    "            if i == dg_mg_u[0]:           # Nodo inicial, inc[0] = adj[0] - 1\n",
    "                if inc[i] != adj[i] - 1:\n",
    "                    print(\"La incidencia del nodo inicial tiene que ser la adyacencia del nodo inicial - 1\")\n",
    "                    return [], l_spectr \n",
    "            elif i == dg_mg_u[1]:\n",
    "                if inc[i] != adj[i] + 1:          # Nodo final, inc[last] = adj[last] + 1\n",
    "                    print(\"La incidencia del nodo final tiene que ser la adyacencia del nodo final + 1\")\n",
    "                    return [], l_spectr\n",
    "            else:\n",
    "                if inc[i] != adj[i]:\n",
    "                    print(\"Los nodos intermedios tienen que tener adyacencias e incidencias iguales\")\n",
    "                    return [], l_spectr\n",
    "    else:\n",
    "        print(\"No hay camino euleriano\")\n",
    "        return [], l_spectr\n",
    "\n",
    "    # Obtencion del EP\n",
    "    ep_seq = euler_path_directed_multigraph(dg_mg_spectr)\n",
    "    print(\"Camino euleriano de seq: \" + str(ep_seq))\n",
    "    # Reconstruccion de la secuencia\n",
    "    seq_rec_aux = [[]]*len(ep_seq)\n",
    "    j = 0\n",
    "    for i in ep_seq:\n",
    "        # print(spectrum_2[i])\n",
    "        if j == 0:\n",
    "            seq_rec_aux[j] = spectrum_2[i]\n",
    "        else:\n",
    "            seq_rec_aux[j] = spectrum_2[i][len(spectrum_2[i]) -1:] \n",
    "        j += 1\n",
    "    \n",
    "    seq_rec = []\n",
    "    for sublist in seq_rec_aux:\n",
    "        for elem in sublist:\n",
    "            seq_rec.append(elem)\n",
    "\n",
    "    return seq_rec"
   ]
  },
  {
   "cell_type": "code",
   "execution_count": 153,
   "metadata": {
    "scrolled": false
   },
   "outputs": [
    {
     "name": "stdout",
     "output_type": "stream",
     "text": [
      "Secuencia\n",
      "['T', 'T', 'G', 'G', 'A', 'C', 'T', 'T', 'T', 'T']\n",
      "Camino euleriano de seq: [3, 0, 4, 0, 1, 5, 0, 6, 2, 1]\n",
      "Camino euleriano de seq: [2, 3, 5, 0, 0, 1, 2, 4, 2, 4]\n",
      "['G', 'A', 'C', 'T', 'T', 'T', 'G', 'A', 'G', 'A', 'G']\n"
     ]
    }
   ],
   "source": [
    "seq = ['A', 'T', 'T', 'C', 'C', 'T', 'G', 'T', 'G', 'T']\n",
    "\n",
    "l_spectr = [['C', 'C', 'T'], ['T', 'G', 'T'], ['G', 'T', 'G'], ['C', 'T', 'G'], ['T', 'C', 'C'], ['A', 'T', 'T'], ['T', 'T', 'C']]\n",
    "\n",
    "# Check Sequencing\n",
    "l_path = check_sequencing(len_seq = 10, len_read = 3, l_spectr = [])\n",
    "\n",
    "seq = path_2_sequence(l_path[0], spectrum_2(l_path[1]))\n",
    "print(seq)\n",
    "# if l_path != None:\n",
    "# Path 2 Seq\n",
    "#     print(\"e_path \", l_path[0])\n",
    "#     print(\"spectr \", l_path[1])\n",
    "# seq = random_sequence(10)\n",
    "# l_spectr = spectrum(seq, 3)\n",
    "# d_g = spectrum_2_graph(l_spectr)\n",
    "# e_path = euler_path_directed_multigraph(d_g)\n",
    "# l1_spectr = spectrum_2(l_spectr)\n",
    "    \n",
    "# path_2_sequence(e_path, l1_spectr)"
   ]
  },
  {
   "cell_type": "code",
   "execution_count": 69,
   "metadata": {},
   "outputs": [],
   "source": [
    "# 3C Cuestiones sobre reconstrucción de secuencias:\n",
    "def estimate(len_read):\n",
    "    # Fijado el valor de longitud de secuencia\n",
    "    len_seq = 10\n",
    "\n",
    "    # Construimos nuestra secuencia inicial\n",
    "    seq = random_sequence(len_seq)\n",
    "    \n",
    "    # Conseguimos nuestro espectro\n",
    "    spec = spectrum(seq, len_read)\n",
    "    # print(\"Espectro: \", spec)\n",
    "    d_g = spectrum_2_graph(spec)\n",
    "    \n",
    "    # Busco el camino euleriano\n",
    "    # print(d_g)\n",
    "    e_path = euler_path_directed_multigraph(d_g)\n",
    "    # print(e_path)\n",
    "\n",
    "    # Lo transformo en secuencia y compruebo si son iguales\n",
    "    # De serlo, extraigo la informacion\n",
    "    seq_rec = path_2_sequence(e_path, spec)\n",
    "    # print(seq_rec)\n",
    "    spec_rec = spectrum(seq_rec, len_read)\n",
    "    l_results = [0,0]\n",
    "    if seq == seq_rec:\n",
    "        print(\"SEQ IGUALES\")\n",
    "        l_results[0] = 1 \n",
    "    else:\n",
    "        print(seq, seq_rec)\n",
    "        print(\"SEQ NO IGUALES\")\n",
    "\n",
    "    if sorted(list(spec)) == sorted(list(spec_rec)):\n",
    "        print(\"SPEC IGUALES\")\n",
    "        l_results[1] = 1 \n",
    "    else:\n",
    "        print(\"SPEC NO IGUALES\")\n",
    "    # print(l_results)\n",
    "    return l_results\n"
   ]
  },
  {
   "cell_type": "code",
   "execution_count": 155,
   "metadata": {
    "scrolled": true
   },
   "outputs": [
    {
     "name": "stdout",
     "output_type": "stream",
     "text": [
      "No hay camino euleriano\n",
      "['G', 'C', 'A', 'A', 'C', 'T', 'A', 'A', 'T', 'G'] ([], [['C', 'C', 'T'], ['T', 'G', 'T'], ['G', 'T', 'G'], ['C', 'T', 'G'], ['T', 'C', 'C'], ['A', 'T', 'T'], ['T', 'T', 'C']])\n",
      "SEQ NO IGUALES\n",
      "SPEC NO IGUALES\n",
      "Camino euleriano de seq: [0, 1, 2, 5, 3, 6, 4]\n",
      "SEQ IGUALES\n",
      "SPEC IGUALES\n",
      "Camino euleriano de seq: [3, 2, 4, 1, 0, 5]\n",
      "SEQ IGUALES\n",
      "SPEC IGUALES\n",
      "Camino euleriano de seq: [0, 1, 4, 3, 2]\n",
      "SEQ IGUALES\n",
      "SPEC IGUALES\n",
      "Camino euleriano de seq: [1, 0, 2, 3]\n",
      "SEQ IGUALES\n",
      "SPEC IGUALES\n",
      "Camino euleriano de seq: [0, 2, 1]\n",
      "SEQ IGUALES\n",
      "SPEC IGUALES\n",
      "Camino euleriano de seq: [1, 0]\n",
      "SEQ IGUALES\n",
      "SPEC IGUALES\n",
      "[6, 6]\n"
     ]
    }
   ],
   "source": [
    "len_read = 3\n",
    "len_read_fin = 10 - len_read\n",
    "\n",
    "l_results = [0, 0]\n",
    "# Iteramos sobre len_read\n",
    "for i in range(len_read_fin):\n",
    "    l_res = estimate(len_read)\n",
    "    l_results[0] += l_res[0]\n",
    "    l_results[1] += l_res[1]\n",
    "    len_read += 1\n",
    "\n",
    "print(l_results)"
   ]
  },
  {
   "cell_type": "code",
   "execution_count": 156,
   "metadata": {
    "scrolled": true
   },
   "outputs": [
    {
     "name": "stdout",
     "output_type": "stream",
     "text": [
      "\n",
      "comprobamos cálculos de espectros y grafos sobre secuencias sencillas ..........\n",
      "['T', 'G', 'G', 'C']\n",
      "[['G', 'G', 'C'], ['T', 'G', 'G']]\n",
      "[['G', 'G'], ['G', 'C'], ['T', 'G']]\n",
      "{0: {}, 1: {0: {0: 1}}}\n",
      "pulsar Intro para continuar ....................\n",
      "\n",
      "comprobamos reconstrucción ..........\n",
      "len_seq 136 len_read 3 \n",
      "\n",
      "La incidencia del nodo inicial tiene que ser la adyacencia del nodo inicial - 1\n",
      "\t['A', 'A', 'A', 'G', 'C', 'G', 'G', 'A', 'G', 'T', 'A', 'T', 'A', 'T', 'C', 'G', 'A', 'T', 'C', 'A', 'A', 'T', 'C', 'G', 'A', 'G', 'G', 'C', 'T', 'G', 'G', 'A', 'A', 'C', 'G', 'C', 'A', 'G', 'G', 'G', 'G', 'G', 'G', 'C', 'C', 'C', 'A', 'C', 'A', 'G', 'G', 'T', 'T', 'T', 'C', 'T', 'C', 'A', 'T', 'G', 'G', 'G', 'C', 'A', 'G', 'C', 'C', 'G', 'T', 'T', 'G', 'G', 'A', 'G', 'A', 'T', 'C', 'A', 'T', 'C', 'T', 'C', 'A', 'T', 'C', 'A', 'A', 'A', 'T', 'G', 'C', 'C', 'A', 'T', 'A', 'G', 'C', 'G', 'A', 'G', 'A', 'A', 'T', 'A', 'G', 'C', 'C', 'A', 'A', 'T', 'G', 'G', 'A', 'T', 'G', 'G', 'T', 'G', 'G', 'T', 'T', 'C', 'G', 'T', 'C', 'G', 'C', 'T', 'C', 'A', 'T', 'T', 'A', 'C', 'G', 'A']\n",
      " \t([], [['C', 'C', 'T'], ['T', 'G', 'T'], ['G', 'T', 'G'], ['C', 'T', 'G'], ['T', 'C', 'C'], ['A', 'T', 'T'], ['T', 'T', 'C']])\n",
      "\n",
      "seq  iguales? False\n",
      "spec iguales? False\n",
      "pulsar Intro para continuar ....................\n",
      "\n",
      "len_seq 131 len_read 46 \n",
      "\n",
      "Camino euleriano de seq: [83, 81, 82, 75, 68, 60, 55, 54, 49, 47, 48, 78, 80, 46, 45, 38, 36, 37, 74, 30, 31, 85, 26, 27, 41, 42, 43, 44, 24, 25, 39, 40, 64, 79, 22, 23, 34, 35, 70, 21, 19, 20, 50, 65, 66, 67, 16, 17, 28, 29, 53, 13, 14, 72, 73, 11, 12, 51, 52, 76, 77, 9, 10, 15, 56, 7, 8, 61, 4, 5, 6, 32, 33, 84, 0, 1, 2, 3, 18, 57, 58, 59, 69, 71, 62, 63, 22]\n",
      "\t['G', 'C', 'T', 'C', 'G', 'T', 'T', 'C', 'C', 'G', 'A', 'G', 'G', 'T', 'G', 'C', 'A', 'G', 'C', 'A', 'G', 'T', 'T', 'C', 'G', 'A', 'G', 'C', 'G', 'T', 'A', 'C', 'G', 'T', 'C', 'C', 'G', 'T', 'T', 'A', 'A', 'G', 'T', 'T', 'G', 'C', 'T', 'T', 'A', 'G', 'G', 'C', 'A', 'A', 'G', 'C', 'T', 'A', 'G', 'T', 'C', 'G', 'T', 'T', 'G', 'C', 'T', 'C', 'T', 'C', 'C', 'T', 'T', 'A', 'A', 'C', 'A', 'A', 'C', 'T', 'T', 'G', 'G', 'A', 'G', 'A', 'A', 'T', 'G', 'T', 'C', 'C', 'C', 'T', 'A', 'G', 'C', 'T', 'C', 'C', 'G', 'C', 'C', 'T', 'C', 'G', 'A', 'A', 'T', 'A', 'C', 'G', 'A', 'A', 'G', 'C', 'C', 'G', 'C', 'G', 'T', 'T', 'G', 'G', 'G', 'T', 'C', 'G', 'C', 'G', 'A']\n",
      " \t['G', 'C', 'T', 'C', 'G', 'T', 'T', 'C', 'C', 'G', 'A', 'G', 'G', 'T', 'G', 'C', 'A', 'G', 'C', 'A', 'G', 'T', 'T', 'C', 'G', 'A', 'G', 'C', 'G', 'T', 'A', 'C', 'G', 'T', 'C', 'C', 'G', 'T', 'T', 'A', 'A', 'G', 'T', 'T', 'G', 'C', 'G', 'T', 'C', 'G', 'G', 'T', 'A', 'A', 'G', 'C', 'T', 'A', 'C', 'C', 'G', 'C', 'A', 'G', 'C', 'G', 'A', 'A', 'C', 'T', 'T', 'G', 'T', 'G', 'G', 'G', 'T', 'C', 'C', 'C', 'T', 'T', 'A', 'G', 'C', 'G', 'A', 'A', 'T', 'A', 'G', 'A', 'G', 'A', 'A', 'G', 'C', 'C', 'T', 'T', 'G', 'T', 'C', 'C', 'C', 'C', 'T', 'C', 'C', 'T', 'T', 'A', 'C', 'G', 'A', 'A', 'G', 'C', 'A', 'G', 'T', 'C', 'G', 'T', 'T', 'G', 'C', 'T', 'C', 'T', 'C']\n",
      "\n",
      "seq  iguales? False\n",
      "spec iguales? False\n"
     ]
    }
   ],
   "source": [
    "    print(\"\\ncomprobamos cálculos de espectros y grafos sobre secuencias sencillas ..........\")\n",
    "    #seq = \"ACGT\"\n",
    "    seq = random_sequence(4)\n",
    "    print(seq)\n",
    "    spec = spectrum(seq, len_read=3)\n",
    "    print(spec)\n",
    "    spec_2 = spectrum_2(spec)\n",
    "    print(spec_2)\n",
    "    d_g = spectrum_2_graph(spec)\n",
    "    print(d_g)\n",
    "    \n",
    "    _ = input(\"pulsar Intro para continuar ....................\\n\")\n",
    "\n",
    "    print(\"comprobamos reconstrucción ..........\")\n",
    "    # generamos secuencia aleatoria y calculamos espectro y grafo\n",
    "    len_seq = 100 + np.random.randint(50)\n",
    "    len_read = 3\n",
    "    print(\"len_seq\", len_seq,  \"len_read\", len_read, '\\n')\n",
    "    \n",
    "    seq = random_sequence(len_seq)\n",
    "    spec = spectrum(seq, len_read)\n",
    "    d_g  = spectrum_2_graph(spec)\n",
    "   \n",
    "    # buscamos circuito euleriano y reconstruimos cadenas \n",
    "    e_path = euler_path_directed_multigraph(d_g)\n",
    "    spec_2 = spectrum_2(spec)\n",
    "    seq_rec = path_2_sequence(e_path, spec_2)\n",
    "    print('\\t'+str(seq)+'\\n', '\\t'+str(seq_rec)+'\\n')\n",
    "    \n",
    "    # comprobamos coherencia de la reconstrucción\n",
    "    spec_rec = spectrum(seq_rec, len_read)\n",
    "    print(\"seq  iguales?\", seq == seq_rec)\n",
    "    print(\"spec iguales?\", sorted(list(spec)) == sorted(list(spec_rec)))\n",
    "    \n",
    "    _ = input(\"pulsar Intro para continuar ....................\\n\")\n",
    "    \n",
    "    len_seq = 100 + np.random.randint(50)\n",
    "    len_read = np.random.randint(10, 50)\n",
    "    print(\"len_seq\", len_seq,  \"len_read\", len_read, '\\n')\n",
    "\n",
    "    seq = random_sequence(len_seq)    \n",
    "    spec = spectrum(seq, len_read)\n",
    "    d_g  = spectrum_2_graph(spec)\n",
    "    \n",
    "    # buscamos circuito euleriano y reconstruimos cadenas \n",
    "    e_path = euler_path_directed_multigraph(d_g)\n",
    "    spec_2 = spectrum_2(spec)\n",
    "    seq_rec = path_2_sequence(e_path, spec_2)\n",
    "    print('\\t'+str(seq)+'\\n', '\\t'+str(seq_rec)+'\\n')\n",
    "    \n",
    "    # comprobamos coherencia de la reconstrucción\n",
    "    spec_rec = spectrum(seq_rec, len_read)\n",
    "    print(\"seq  iguales?\", seq == seq_rec)\n",
    "    print(\"spec iguales?\", sorted(list(spec)) == sorted(list(spec_rec)))\n",
    "    "
   ]
  },
  {
   "cell_type": "code",
   "execution_count": null,
   "metadata": {},
   "outputs": [],
   "source": []
  }
 ],
 "metadata": {
  "kernelspec": {
   "display_name": "Python 3",
   "language": "python",
   "name": "python3"
  },
  "language_info": {
   "codemirror_mode": {
    "name": "ipython",
    "version": 3
   },
   "file_extension": ".py",
   "mimetype": "text/x-python",
   "name": "python",
   "nbconvert_exporter": "python",
   "pygments_lexer": "ipython3",
   "version": "3.5.2"
  }
 },
 "nbformat": 4,
 "nbformat_minor": 2
}
