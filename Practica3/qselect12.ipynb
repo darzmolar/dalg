{
 "cells": [
  {
   "cell_type": "code",
   "execution_count": 2,
   "metadata": {
    "collapsed": true
   },
   "outputs": [],
   "source": [
    "\"\"\"\n",
    "Created on Wed Oct 19 15:48:00 2018\n",
    "\n",
    "@author: Daniel Cuesta, Alejandro Garo\n",
    "\"\"\"\n",
    "\n",
    "import string, random\n",
    "import numpy as np\n",
    "import matplotlib.pyplot as plt\n",
    "import sys\n",
    "import time\n",
    "import math\n",
    "import cmath\n",
    "\n",
    "from cmath import pi\n",
    "from cmath import exp"
   ]
  },
  {
   "cell_type": "code",
   "execution_count": 3,
   "metadata": {
    "collapsed": true
   },
   "outputs": [],
   "source": [
    "def swap(t, i, j):\n",
    "    aux = t[i]\n",
    "    t[i] = t[j]\n",
    "    t[j] = aux"
   ]
  },
  {
   "cell_type": "code",
   "execution_count": 16,
   "metadata": {
    "collapsed": true
   },
   "outputs": [],
   "source": []
  },
  {
   "cell_type": "code",
   "execution_count": 30,
   "metadata": {
    "collapsed": true
   },
   "outputs": [],
   "source": [
    "def split(t, ini, fin):\n",
    "    \"\"\"\n",
    "    Reparte los elementos utilizando como pivote el primer elemento\n",
    "    \n",
    "    Parametros\n",
    "    ----------\n",
    "    t : tabla\n",
    "    ini : primer elemento\n",
    "    fin : ultimo elemento\n",
    "    \"\"\"\n",
    "    pivote = t[ini]\n",
    "    m = ini\n",
    "                   \n",
    "    for i in range(ini+1, fin+1):\n",
    "        if t[i] < pivote :\n",
    "            m +=1\n",
    "            swap(t, i, m)\n",
    "\n",
    "    swap(t, ini, m)\n",
    "\n",
    "    return m\n",
    "            "
   ]
  },
  {
   "cell_type": "code",
   "execution_count": 31,
   "metadata": {
    "scrolled": true
   },
   "outputs": [
    {
     "name": "stdout",
     "output_type": "stream",
     "text": [
      "2\n",
      "[2 1 3 5 4]\n"
     ]
    }
   ],
   "source": [
    "t =np.array([3,5,1,2,4])\n",
    "print(split(t, 0, 4))\n",
    "print(t)"
   ]
  },
  {
   "cell_type": "code",
   "execution_count": 108,
   "metadata": {
    "collapsed": true
   },
   "outputs": [],
   "source": [
    "def split_pivot(t, ini, fin, pivot=None):\n",
    "    \"\"\"\n",
    "    Reparte los elementos utilizando como pivote el elemento en la posicion pivot\n",
    "    \n",
    "    Parametros\n",
    "    ----------\n",
    "    t : tabla\n",
    "    ini : primer elemento\n",
    "    fin : ultimo elemento\n",
    "    \"\"\"\n",
    "    if (pivot == None):\n",
    "        pivote = t[ini]\n",
    "    else:\n",
    "        pivote = t[pivot]\n",
    "\n",
    "    swap(t, ini, pivot)\n",
    "    m = ini\n",
    "\n",
    "    for i in range(ini+1, fin+1):\n",
    "        if t[i] < pivote :\n",
    "            m +=1\n",
    "            swap(t, i, m)\n",
    "\n",
    "    swap(t, ini, m)\n",
    "    print(\"m:\", m)\n",
    "    return m\n",
    "    "
   ]
  },
  {
   "cell_type": "code",
   "execution_count": 109,
   "metadata": {
    "scrolled": true
   },
   "outputs": [
    {
     "name": "stdout",
     "output_type": "stream",
     "text": [
      "m: 2\n",
      "2\n",
      "[2 1 3 5 4]\n"
     ]
    }
   ],
   "source": [
    "t =np.array([3,5,1,2,4])\n",
    "print(split_pivot(t, 0, 4, 0))\n",
    "print(t)"
   ]
  },
  {
   "cell_type": "code",
   "execution_count": 116,
   "metadata": {
    "collapsed": true
   },
   "outputs": [],
   "source": [
    "def qselect(t, ini, fin, ind, pivot=None):\n",
    "    \"\"\"\n",
    "    Selecciona el elemento de la posicion definida por ind.\n",
    "\n",
    "    Parámetros\n",
    "    ----------\n",
    "    t : tabla\n",
    "    ini : primer elemento\n",
    "    fin : ultimo elemento\n",
    "    ind : indice de la tabla \n",
    "    \"\"\"\n",
    "    if ini > ind or ind > fin:\n",
    "        return\n",
    "\n",
    "    m = split_pivot(t, ini, fin, ind)\n",
    "\n",
    "    if ind == m:\n",
    "        return t[m], m\n",
    "    elif ind < m:\n",
    "        return qselect(t, ini, m-1, ind)\n",
    "    else:\n",
    "        return qselect(t, m+1, fin, ind)"
   ]
  },
  {
   "cell_type": "code",
   "execution_count": 129,
   "metadata": {},
   "outputs": [
    {
     "name": "stdout",
     "output_type": "stream",
     "text": [
      "m: 2\n",
      "m: 1\n",
      "m: 0\n",
      "(1, 0)\n",
      "[1 2 3 5 4]\n"
     ]
    }
   ],
   "source": [
    "t =np.array([3,5,1,2,4])\n",
    "print(qselect(t, 0, 4, 0))\n",
    "print(t)"
   ]
  },
  {
   "cell_type": "code",
   "execution_count": 140,
   "metadata": {
    "collapsed": true
   },
   "outputs": [],
   "source": [
    "len_list = np.random.randint(100, 151)\n",
    "\n",
    "# random list: random shift + permutation\n",
    "shf = np.random.randint(-len_list//2, len_list//2)\n",
    "t = shf + np.random.permutation(len_list)\n",
    "        \n",
    "# random search limits\n",
    "ini = np.random.randint(len_list//2)\n",
    "fin = np.random.randint(len_list//2, len_list)\n",
    "        \n",
    "# random pos to search\n",
    "pos = np.random.randint(fin-ini+1)\n"
   ]
  },
  {
   "cell_type": "code",
   "execution_count": 138,
   "metadata": {
    "collapsed": true
   },
   "outputs": [],
   "source": [
    "def qselect_sr(t, ini, fin, ind, pivot=None):\n",
    "    \"\"\"\n",
    "    Selecciona el elemento de la posicion definida por ind sin recursion.\n",
    "\n",
    "    Parámetros\n",
    "    ----------\n",
    "    t : tabla\n",
    "    ini : primer elemento\n",
    "    fin : ultimo elemento\n",
    "    ind : indice de la tabla \n",
    "    \"\"\"\n",
    "    if ini > ind or ind > fin:\n",
    "        return\n",
    "    \n",
    "    m = split_pivot(t, ini, fin, ind)\n",
    "    \n",
    "    while (ind!=m):\n",
    "    \n",
    "        m = split_pivot(t, ini, fin, ind)\n",
    "        \n",
    "        if ind < m:\n",
    "            ini = ini\n",
    "            fin = m-1\n",
    "        else:\n",
    "            ini = m+1\n",
    "            fin = fin\n",
    "\n",
    "    return t[m], m"
   ]
  },
  {
   "cell_type": "code",
   "execution_count": 141,
   "metadata": {},
   "outputs": [
    {
     "name": "stdout",
     "output_type": "stream",
     "text": [
      "[ 14  23  20  45  46  92  26  54  63  65  -4   3  71  -3  93  41  53   1\n",
      "   8  70  68  81   6  11   2  84  85  87  78  99  74  30  58  25  73  28\n",
      "  88  18  90  43  10   0  86  34  96  98 101  97  38  17  77  62  94  59\n",
      "  49  31  52  35  64  61 100  33  48   4  91  55  89  27   7  80  13  67\n",
      "  22  12  19  50  44  39  51  47   9  57  24  66  29  69  95   5  37  -2\n",
      "  21  32  42  15  60  72  75  83  56  -1  79  82  16  40  36  76]\n",
      "1 87 58\n",
      "m: 56\n",
      "m: 69\n",
      "m: 8\n",
      "m: 60\n",
      "m: 57\n",
      "m: 58\n",
      "(66, 58)\n",
      "[ 14   4  -4   3  -3   1   2   0   5  45  46  41  53  26   8   6  11  54\n",
      "  30  58  25  28  18  43  10  63  34  38  17  62  59  49  31  52  35  23\n",
      "  61  33  48  20  55  27   7  13  22  12  19  50  44  39  51  47   9  57\n",
      "  24  29  64  65  66  67  68  80  73  78  77  74  71  70  69  81  85  90\n",
      "  96  98 101  97  87 100  91  99  94  92  93  89  84  86  95  88  37  -2\n",
      "  21  32  42  15  60  72  75  83  56  -1  79  82  16  40  36  76]\n"
     ]
    }
   ],
   "source": [
    "print(t)\n",
    "print(ini, fin, pos)\n",
    "print(qselect_sr(t, ini, fin, pos))\n",
    "print(t)"
   ]
  },
  {
   "cell_type": "code",
   "execution_count": 27,
   "metadata": {
    "collapsed": true
   },
   "outputs": [],
   "source": [
    "def pivot_5(t, ini, fin):\n",
    "    \"\"\"\n",
    "    Realiza la mediana de medianas de la tabla.\n",
    "\n",
    "    Parámetros\n",
    "    ----------\n",
    "    t : tabla\n",
    "    ini : primer elemento\n",
    "    fin : ultimo elemento\n",
    "    \"\"\"\n",
    "    ts = sorted(t)\n",
    "    return (ts[ini]+ts[fin])//2"
   ]
  },
  {
   "cell_type": "code",
   "execution_count": 28,
   "metadata": {
    "collapsed": true
   },
   "outputs": [],
   "source": [
    "def qselect_5(t, ini, fin, pos):\n",
    "    \"\"\"\n",
    "    Selecciona el elemento en posicion pos.\n",
    "\n",
    "    Parámetros\n",
    "    ----------\n",
    "    t : tabla\n",
    "    ini : primer elemento\n",
    "    fin : ultimo elemento\n",
    "    pos : elemento a buscar \n",
    "    \"\"\"\n",
    "    if ini > pos or pos > fin:\n",
    "        return\n",
    "    \n",
    "    piv = pivot_5(t, ini, fin)\n",
    "    sp = split_pivot(t, ini, fin, piv)\n",
    "    \n",
    "    while (pos!=sp):\n",
    "        piv = pivot_5(t, ini, fin)\n",
    "        sp = split_pivot(t, ini, fin, piv)\n",
    "\n",
    "        if pos < sp:\n",
    "            #ini = ini\n",
    "            fin = sp-1\n",
    "        else:\n",
    "            ini = sp+1\n",
    "            #fin = fin\n",
    "\n",
    "    return t[sp], sp"
   ]
  },
  {
   "cell_type": "code",
   "execution_count": 29,
   "metadata": {
    "collapsed": true
   },
   "outputs": [],
   "source": [
    "def qsort_5(t, ini, fin):\n",
    "    \"\"\"\n",
    "    Ordena la tabla.\n",
    "\n",
    "    Parámetros\n",
    "    ----------\n",
    "    t : tabla\n",
    "    ini : primer elemento\n",
    "    fin : ultimo elemento\n",
    "    \"\"\"\n",
    "    if ini > fin: \n",
    "        return None\n",
    "    if ini == fin:\n",
    "        return t\n",
    "    \n",
    "    else:\n",
    "        piv = pivot_5(t, ini, fin)\n",
    "        sp = split_pivot(t, ini, fin, piv)\n",
    "        \n",
    "        if ini < sp-1:\n",
    "            if qsort_5(t, ini, sp-1).any() == None:\n",
    "                return None\n",
    "        \n",
    "        if sp+1 < fin:\n",
    "            if qsort_5(t, sp+1, fin).any() == None:\n",
    "                return None\n",
    "    return t"
   ]
  }
 ],
 "metadata": {
  "kernelspec": {
   "display_name": "Python 3",
   "language": "python",
   "name": "python3"
  },
  "language_info": {
   "codemirror_mode": {
    "name": "ipython",
    "version": 3
   },
   "file_extension": ".py",
   "mimetype": "text/x-python",
   "name": "python",
   "nbconvert_exporter": "python",
   "pygments_lexer": "ipython3",
   "version": "3.6.3"
  }
 },
 "nbformat": 4,
 "nbformat_minor": 2
}
