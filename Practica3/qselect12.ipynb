{
 "cells": [
  {
   "cell_type": "code",
   "execution_count": 2,
   "metadata": {
    "collapsed": true
   },
   "outputs": [],
   "source": [
    "\"\"\"\n",
    "Created on Wed Oct 19 15:48:00 2018\n",
    "\n",
    "@author: Daniel Cuesta, Alejandro Garo\n",
    "\"\"\"\n",
    "\n",
    "import string, random\n",
    "import numpy as np\n",
    "import matplotlib.pyplot as plt\n",
    "import sys\n",
    "import time\n",
    "import math\n",
    "import cmath\n",
    "\n",
    "from cmath import pi\n",
    "from cmath import exp"
   ]
  },
  {
   "cell_type": "code",
   "execution_count": 3,
   "metadata": {
    "collapsed": true
   },
   "outputs": [],
   "source": [
    "def swap(t, i, j):\n",
    "    aux = t[i]\n",
    "    t[i] = t[j]\n",
    "    t[j] = aux"
   ]
  },
  {
   "cell_type": "code",
   "execution_count": 16,
   "metadata": {
    "collapsed": true
   },
   "outputs": [],
   "source": []
  },
  {
   "cell_type": "code",
   "execution_count": 30,
   "metadata": {},
   "outputs": [],
   "source": [
    "def split(t, ini, fin):\n",
    "    \n",
    "    pivote = t[ini]\n",
    "    m = ini\n",
    "                   \n",
    "    for i in range(ini+1, fin+1):\n",
    "        if t[i] < pivote :\n",
    "            m +=1\n",
    "            swap(t, i, m)\n",
    "\n",
    "    swap(t, ini, m)\n",
    "\n",
    "    return m\n",
    "            "
   ]
  },
  {
   "cell_type": "code",
   "execution_count": 31,
   "metadata": {},
   "outputs": [
    {
     "name": "stdout",
     "output_type": "stream",
     "text": [
      "2\n",
      "[2 1 3 5 4]\n"
     ]
    }
   ],
   "source": [
    "t =np.array([3,5,1,2,4])\n",
    "print(split(t, 0, 4))\n",
    "print(t)"
   ]
  },
  {
   "cell_type": "code",
   "execution_count": 35,
   "metadata": {
    "collapsed": true
   },
   "outputs": [],
   "source": [
    "def split_pivot(t, ini, fin, pivot=None):\n",
    "    if (pivot == None):\n",
    "        pivote = t[ini]\n",
    "    else:\n",
    "        pivote = t[pivot]\n",
    "        \n",
    "    m = -1\n",
    "    for i in range(0,len(t)-1):\n",
    "        if t[i] == pivote:\n",
    "            m = i\n",
    "            break\n",
    "\n",
    "    swap(t, ini, m)\n",
    "    m = ini\n",
    "\n",
    "    for i in range(ini+1, fin+1):\n",
    "        if t[i] < pivote :\n",
    "            m +=1\n",
    "            swap(t, i, m)\n",
    "\n",
    "    swap(t, ini, m)\n",
    "\n",
    "    return m\n",
    "    "
   ]
  },
  {
   "cell_type": "code",
   "execution_count": 53,
   "metadata": {
    "scrolled": true
   },
   "outputs": [
    {
     "name": "stdout",
     "output_type": "stream",
     "text": [
      "2\n",
      "[2 1 3 5 4]\n"
     ]
    }
   ],
   "source": [
    "t =np.array([3,5,1,2,4])\n",
    "print(split_pivot(t, 0, 4))\n",
    "print(t)"
   ]
  },
  {
   "cell_type": "code",
   "execution_count": 51,
   "metadata": {},
   "outputs": [],
   "source": [
    "def qselect(t, ini, fin, ind, pivot=None):\n",
    "    if ini > ind or ind > fin:\n",
    "        return\n",
    "\n",
    "    m = split_pivot(t, ini, fin)\n",
    "\n",
    "    if ind == m:\n",
    "        return t[m], m\n",
    "    elif ind < m:\n",
    "        return qselect(t, ini, m-1, ind)\n",
    "    else:\n",
    "        return qselect(t, m+1, fin, ind-(m-ini+1))"
   ]
  },
  {
   "cell_type": "code",
   "execution_count": 52,
   "metadata": {},
   "outputs": [
    {
     "name": "stdout",
     "output_type": "stream",
     "text": [
      "None\n",
      "[2 1 3 5 4]\n"
     ]
    }
   ],
   "source": [
    "t =np.array([3,5,1,2,4])\n",
    "print(qselect(t, 0, 4, 3))\n",
    "print(t)"
   ]
  },
  {
   "cell_type": "code",
   "execution_count": null,
   "metadata": {
    "collapsed": true
   },
   "outputs": [],
   "source": [
    "def qselect_sr(t, ini, fin, ind, pivot=None):\n",
    "    if ini > ind or ind > fin:\n",
    "        return\n",
    "    \n",
    "    m = spllit_pivot(t, ini, fin, ind)\n",
    "    "
   ]
  },
  {
   "cell_type": "code",
   "execution_count": 27,
   "metadata": {
    "collapsed": true
   },
   "outputs": [],
   "source": [
    "def pivot_5(t, ini, fin):\n",
    "    ts = sorted(t)\n",
    "    return (ts[ini]+ts[fin])//2"
   ]
  },
  {
   "cell_type": "code",
   "execution_count": 28,
   "metadata": {
    "collapsed": true
   },
   "outputs": [],
   "source": [
    "def qselect_5(t, ini, fin, pos):\n",
    "    if ini > pos or pos > fin:\n",
    "        return\n",
    "    \n",
    "    piv = pivot_5(t, ini, fin)\n",
    "    sp = split_pivot(t, ini, fin, piv)\n",
    "    \n",
    "    if pos == sp:\n",
    "        return t[sp], sp\n",
    "    elif pos < sp:\n",
    "        return qselect_5(t, ini, sp-1, pos)\n",
    "    else:\n",
    "        return qselect_5(t, sp+1, fin, pos)"
   ]
  },
  {
   "cell_type": "code",
   "execution_count": 29,
   "metadata": {
    "collapsed": true
   },
   "outputs": [],
   "source": [
    "def qsort_5(t, ini, fin):\n",
    "    if ini > fin: \n",
    "        return None\n",
    "    if ini == fin:\n",
    "        return t\n",
    "    \n",
    "    else:\n",
    "        piv = pivot_5(t, ini, fin)\n",
    "        sp = split_pivot(t, ini, fin, piv)\n",
    "        \n",
    "        if ini < sp-1:\n",
    "            if qsort_5(t, ini, sp-1).any() == None:\n",
    "                return None\n",
    "        \n",
    "        if sp+1 < fin:\n",
    "            if qsort_5(t, sp+1, fin).any() == None:\n",
    "                return None\n",
    "    return t"
   ]
  }
 ],
 "metadata": {
  "kernelspec": {
   "display_name": "Python 3",
   "language": "python",
   "name": "python3"
  },
  "language_info": {
   "codemirror_mode": {
    "name": "ipython",
    "version": 3
   },
   "file_extension": ".py",
   "mimetype": "text/x-python",
   "name": "python",
   "nbconvert_exporter": "python",
   "pygments_lexer": "ipython3",
   "version": "3.6.3"
  }
 },
 "nbformat": 4,
 "nbformat_minor": 2
}
