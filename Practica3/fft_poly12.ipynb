{
 "cells": [
  {
   "cell_type": "code",
   "execution_count": 71,
   "metadata": {
    "collapsed": true
   },
   "outputs": [],
   "source": [
    "\"\"\"\n",
    "Created on Wed Oct 19 15:48:00 2018\n",
    "\n",
    "@author: Daniel Cuesta, Alejandro Garo\n",
    "\"\"\"\n",
    "\n",
    "import string, random\n",
    "import numpy as np\n",
    "import matplotlib.pyplot as plt\n",
    "import sys\n",
    "import time\n",
    "import math\n",
    "import cmath\n",
    "\n",
    "from cmath import pi, exp"
   ]
  },
  {
   "cell_type": "code",
   "execution_count": 122,
   "metadata": {
    "collapsed": true
   },
   "outputs": [],
   "source": [
    "t =np.array([1,2,1,0])"
   ]
  },
  {
   "cell_type": "code",
   "execution_count": 132,
   "metadata": {},
   "outputs": [],
   "source": [
    "def fft(t):\n",
    "    \n",
    "    k = len(t)\n",
    "    \n",
    "    if k == 1 :\n",
    "        return t\n",
    "    \n",
    "    pow2 = math.ceil(math.log(k,2))\n",
    "    print(pow2)\n",
    "    \n",
    "    t = np.array(list(t) + (2**pow2 - k) * [float(0)], dtype = complex)\n",
    "    # t.append(np.zeros(2**log2K-k))\n",
    "    \n",
    "    print(t)\n",
    "        \n",
    "    c_e = t[::2]\n",
    "    c_o = t[1::2]\n",
    "    \n",
    "    f_e = fft(c_e)\n",
    "    f_o = fft(c_o)\n",
    "    print(\"f_e \",f_e)\n",
    "    print(\"f_o \",f_o)\n",
    "    for i in range((2**pow2)-1):\n",
    "        t[i] = f_e[i % 2**(pow2-1)] + exp(2j*pi*(i/2**pow2)) * f_o[i % 2**(pow2-1)]\n",
    "    return t"
   ]
  },
  {
   "cell_type": "code",
   "execution_count": null,
   "metadata": {
    "collapsed": true
   },
   "outputs": [],
   "source": [
    "def invert_fft(t, fft_func=fft):\n",
    "    pass"
   ]
  },
  {
   "cell_type": "code",
   "execution_count": 135,
   "metadata": {},
   "outputs": [
    {
     "name": "stdout",
     "output_type": "stream",
     "text": [
      "2\n",
      "[ 1.+0.j  2.+0.j  1.+0.j  0.+0.j]\n",
      "1\n",
      "[ 1.+0.j  1.+0.j]\n",
      "f_e  [ 1.+0.j]\n",
      "f_o  [ 1.+0.j]\n",
      "1\n",
      "[ 2.+0.j  0.+0.j]\n",
      "f_e  [ 2.+0.j]\n",
      "f_o  [ 0.+0.j]\n",
      "f_e  [ 2.+0.j  1.+0.j]\n",
      "f_o  [ 2.+0.j  0.+0.j]\n",
      "2\n",
      "[ 4. +0.00000000e+00j  1. +0.00000000e+00j  0. +2.44929360e-16j\n",
      "  0. +0.00000000e+00j]\n",
      "1\n",
      "[ 4. +0.00000000e+00j  0. +2.44929360e-16j]\n",
      "f_e  [ 4.+0.j]\n",
      "f_o  [ 0. +2.44929360e-16j]\n",
      "1\n",
      "[ 1.+0.j  0.+0.j]\n",
      "f_e  [ 1.+0.j]\n",
      "f_o  [ 0.+0.j]\n",
      "f_e  [ 4. +2.44929360e-16j  0. +2.44929360e-16j]\n",
      "f_o  [ 1.+0.j  0.+0.j]\n",
      "[ 5. +2.44929360e-16j  0. +2.44929360e-16j  3. +3.67394040e-16j\n",
      "  0. +0.00000000e+00j]\n",
      "2\n",
      "[ 1.+0.j  2.+0.j  1.+0.j  0.+0.j]\n",
      "1\n",
      "[ 1.+0.j  1.+0.j]\n",
      "f_e  [ 1.+0.j]\n",
      "f_o  [ 1.+0.j]\n",
      "1\n",
      "[ 2.+0.j  0.+0.j]\n",
      "f_e  [ 2.+0.j]\n",
      "f_o  [ 0.+0.j]\n",
      "f_e  [ 2.+0.j  1.+0.j]\n",
      "f_o  [ 2.+0.j  0.+0.j]\n",
      "[ 5. +2.44929360e-16j  4. -1.00000000e+00j  3. +2.44929360e-16j\n",
      "  4. +1.00000000e+00j]\n"
     ]
    }
   ],
   "source": [
    "print(fft(fft(t)))\n",
    "print (np.fft.fft(fft(t)))\n"
   ]
  }
 ],
 "metadata": {
  "kernelspec": {
   "display_name": "Python 3",
   "language": "python",
   "name": "python3"
  },
  "language_info": {
   "codemirror_mode": {
    "name": "ipython",
    "version": 3
   },
   "file_extension": ".py",
   "mimetype": "text/x-python",
   "name": "python",
   "nbconvert_exporter": "python",
   "pygments_lexer": "ipython3",
   "version": "3.6.3"
  }
 },
 "nbformat": 4,
 "nbformat_minor": 2
}
