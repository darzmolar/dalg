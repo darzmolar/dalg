{
 "cells": [
  {
   "cell_type": "code",
   "execution_count": 1,
   "metadata": {},
   "outputs": [],
   "source": [
    "\"\"\"\n",
    "Created on Wed Oct 19 15:48:00 2018\n",
    "\n",
    "@author: Daniel Cuesta, Alejandro Garo\n",
    "\"\"\"\n",
    "\n",
    "import string, random\n",
    "import numpy as np\n",
    "import matplotlib.pyplot as plt\n",
    "import sys\n",
    "import time\n",
    "import math\n",
    "import cmath\n",
    "\n",
    "from cmath import pi, exp"
   ]
  },
  {
   "cell_type": "code",
   "execution_count": 2,
   "metadata": {},
   "outputs": [],
   "source": [
    "t =np.array([1,2,1,0])"
   ]
  },
  {
   "cell_type": "code",
   "execution_count": 3,
   "metadata": {},
   "outputs": [],
   "source": [
    "def fft(t):\n",
    "    \n",
    "    k = len(t)\n",
    "    \n",
    "    if k == 1 :\n",
    "        return t\n",
    "    \n",
    "    pow2 = math.ceil(math.log(k,2))\n",
    "    # print(pow2)\n",
    "    \n",
    "    t = np.array(list(t) + (2**pow2 - k) * [float(0)], dtype = complex)\n",
    "    # t.append(np.zeros(2**log2K-k))\n",
    "    \n",
    "    # print(t)\n",
    "        \n",
    "    c_e = t[::2]\n",
    "    c_o = t[1::2]\n",
    "    \n",
    "    f_e = fft(c_e)\n",
    "    f_o = fft(c_o)\n",
    "    # print(\"f_e \",f_e)\n",
    "    # print(\"f_o \",f_o)\n",
    "    for i in range((2**pow2)-1):\n",
    "        t[i] = f_e[i % 2**(pow2-1)] + exp(2j*pi*(i/2**pow2)) * f_o[i % 2**(pow2-1)]\n",
    "    return t"
   ]
  },
  {
   "cell_type": "code",
   "execution_count": 4,
   "metadata": {},
   "outputs": [],
   "source": [
    "def invert_fft(t, fft_func=fft):\n",
    "    k = len(t)\n",
    "    \n",
    "    # if k == 1 :\n",
    "    #     return t\n",
    "    \n",
    "    pow2 = math.ceil(math.log(k,2))\n",
    "    # print(pow2)\n",
    "    \n",
    "    t = np.array(list(t) + (2**pow2 - k) * [float(0)], dtype = complex)\n",
    "    # t.append(np.zeros(2**log2K-k))\n",
    "    \n",
    "    # print(t)\n",
    "    \n",
    "    return fft_func(t)\n",
    "    "
   ]
  },
  {
   "cell_type": "code",
   "execution_count": 5,
   "metadata": {},
   "outputs": [
    {
     "name": "stdout",
     "output_type": "stream",
     "text": [
      "[1 2 1 0]\n",
      "[4.+0.0000000e+00j 1.+0.0000000e+00j 0.+2.4492936e-16j 0.+0.0000000e+00j]\n",
      "[1 2 1 0]\n",
      "[4.+0.j 0.-2.j 0.+0.j 0.+2.j]\n"
     ]
    }
   ],
   "source": [
    "# Definimos t\n",
    "t =np.array([1,2,1,0])\n",
    "\n",
    "# Aplicamos la fft sobre el\n",
    "t_fft = fft(t)\n",
    "print(t)\n",
    "print(t_fft)\n",
    "\n",
    "# FFT de numpy\n",
    "print(t)\n",
    "print(np.fft.fft(t))\n",
    "\n",
    "# t_inv_fft = invert_fft(t_fft, fft_func = fft) \n",
    "# print (t_inv_fft)\n",
    "\n",
    "# t_inv_fft2 = invert_fft(t_fft, fft_func = np.fft.ifft)\n",
    "# print(t_inv_fft2)\n"
   ]
  },
  {
   "cell_type": "code",
   "execution_count": 6,
   "metadata": {},
   "outputs": [],
   "source": [
    "# 1-B: Multiplicando polinomios y numeros\n",
    "\n",
    "# Genera un polinomio aleatorio\n",
    "def rand_polinomio(long = 2**10, base = 10):\n",
    "    # Comprobacion de la base\n",
    "    if base < 2 or base > 10:\n",
    "        return -1\n",
    "    \n",
    "    # Computo del polinomio\n",
    "    l_pol = np.random.randint(0, high = base - 1, size = (1, long))\n",
    "    return l_pol[0]\n",
    "\n",
    "# Calculo del valor del polinomio usando la regla de Horner\n",
    "# Ej, la lista [4 7 6] nos da polinomio f(x) = 6x^2 + 7^x + 4 = x*(6x + 7) + 4; si x = 10; f(x) = 674\n",
    "def poli_2_num(l_pol, base = 10):\n",
    "    if len(l_pol)==1:    \n",
    "        return l_pol[0]\n",
    "    else:\n",
    "        return l_pol[0] + base * poli_2_num(l_pol[1:], base)\n",
    "    \n",
    "# Genera un numero\n",
    "def rand_numero(num_digits, base = 10):\n",
    "    # usar logs?\n",
    "    pass\n",
    "\n",
    "def num_2_pol(num, base = 10):\n",
    "    l_pol = []\n",
    "    exp = 0\n",
    "    coef = 0\n",
    "    # Recursivo?\n",
    "    # if num == 0:\n",
    "    #     return l_pol\n",
    "    \n",
    "    # for i in range(10):\n",
    "    #     num_aux = num\n",
    "    #     num_aux -= i*(base**exp)\n",
    "        \n",
    "    # No rec??\n",
    "    while num > 0:\n",
    "        # num_aux = num\n",
    "        \n",
    "        for i in range(9, -1, -1): # coeficiente maximo \n",
    "            num_aux = num\n",
    "            print(\"num: \", num, \" - num_aux: \", num_aux)\n",
    "            n = i*(base**exp)\n",
    "            \n",
    "            if n < num_aux:\n",
    "                num_aux -= i*(base**exp)\n",
    "            \n",
    "            else:\n",
    "                coef = i\n",
    "                print(n, coef)\n",
    "                break\n",
    "        \n",
    "        exp += 1\n",
    "        l_pol.append(coef)\n",
    "        num = num_aux\n",
    "    print(l_pol)\n",
    "    \n",
    "    pass"
   ]
  },
  {
   "cell_type": "code",
   "execution_count": 26,
   "metadata": {},
   "outputs": [],
   "source": [
    "# Multiplicación de polinomios usando el método tradicional\n",
    "def mult_polinomios(l_pol_1, l_pol_2):\n",
    "    l_mult = [0] * (len(l_pol_1) + len(l_pol_2) - 1)\n",
    "    \n",
    "    for i in range(len(l_pol_1)):\n",
    "        for j in range(len(l_pol_2)):\n",
    "            l_mult[i + j] = (l_pol_1[i] * l_pol_2[j]) + l_mult[i + j]\n",
    "    \n",
    "    return l_mult\n",
    "\n",
    "# Multiplicacion de polinomios usando fft\n",
    "def mult_polinomios_fft(l_pol_1, l_pol_2, fft_func = fft):\n",
    "    pass\n",
    "\n",
    "\n",
    "# Multiplicacion de numeros llevando dichos numeros a sus \n",
    "# expresiones polinomicas y siguendo el metodo tradicional\n",
    "def mult_numeros(num1, num2):\n",
    "    pass\n",
    "\n",
    "# Multiplicacion de numeros usando fft\n",
    "def mult_numeros(num1, num2, fft_func = fft)"
   ]
  },
  {
   "cell_type": "code",
   "execution_count": 28,
   "metadata": {},
   "outputs": [
    {
     "name": "stdout",
     "output_type": "stream",
     "text": [
      "[0, 1, 5, 7, 3, 3, 1]\n"
     ]
    }
   ],
   "source": [
    "# l_pol = rand_polinomio(long = 3, base = 10)\n",
    "# print(l_pol)\n",
    "\n",
    "# print(poli_2_num(l_pol, base = 10))\n",
    "\n",
    "# print(num_2_pol(274, base = 10))\n",
    "\n",
    "print(mult_polinomios([1, 2, 0, 1], [0, 1, 3, 1]))"
   ]
  }
 ],
 "metadata": {
  "kernelspec": {
   "display_name": "Python 3",
   "language": "python",
   "name": "python3"
  },
  "language_info": {
   "codemirror_mode": {
    "name": "ipython",
    "version": 3
   },
   "file_extension": ".py",
   "mimetype": "text/x-python",
   "name": "python",
   "nbconvert_exporter": "python",
   "pygments_lexer": "ipython3",
   "version": "3.5.2"
  }
 },
 "nbformat": 4,
 "nbformat_minor": 2
}
